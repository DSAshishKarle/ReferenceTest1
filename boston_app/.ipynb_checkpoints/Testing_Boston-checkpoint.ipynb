{
 "cells": [
  {
   "cell_type": "code",
   "execution_count": 1,
   "id": "31bfc6b5",
   "metadata": {},
   "outputs": [],
   "source": [
    "import numpy as np\n",
    "import pandas as pd\n",
    "import json\n",
    "import pickle"
   ]
  },
  {
   "cell_type": "markdown",
   "id": "780bb973",
   "metadata": {},
   "source": [
    "## Load Model"
   ]
  },
  {
   "cell_type": "code",
   "execution_count": 2,
   "id": "ab9078aa",
   "metadata": {},
   "outputs": [],
   "source": [
    "with open(\"KNN_model.pkl\",\"rb\") as f:\n",
    "    model = pickle.load(f)"
   ]
  },
  {
   "cell_type": "code",
   "execution_count": 3,
   "id": "0f67062b",
   "metadata": {},
   "outputs": [],
   "source": [
    "with open(\"Scaling.pkl\",\"rb\") as f:\n",
    "    std = pickle.load(f)"
   ]
  },
  {
   "cell_type": "markdown",
   "id": "23b09159",
   "metadata": {},
   "source": [
    "## Test data"
   ]
  },
  {
   "cell_type": "code",
   "execution_count": 4,
   "id": "39c83916",
   "metadata": {},
   "outputs": [],
   "source": [
    "CRIM      =   0.05724\n",
    "ZN         =  0.00000\n",
    "INDUS      =  4.24000\n",
    "CHAS       =  0.00000\n",
    "NOX        =  0.46000\n",
    "RM         =  6.33300\n",
    "AGE       = 15.20000\n",
    "DIS        =  7.21460\n",
    "RAD        =  2.00000\n",
    "TAX       = 450.00000\n",
    "PTRATIO    = 17.90000\n",
    "B          =370.21000\n",
    "LSTAT      =  8.34000"
   ]
  },
  {
   "cell_type": "code",
   "execution_count": null,
   "id": "39a1f971",
   "metadata": {},
   "outputs": [
    {
     "name": "stderr",
     "output_type": "stream",
     "text": [
      "C:\\Users\\Lenovo\\AppData\\Local\\Programs\\Python\\Python310\\lib\\site-packages\\sklearn\\base.py:450: UserWarning: X does not have valid feature names, but StandardScaler was fitted with feature names\n",
      "  warnings.warn(\n",
      "C:\\Users\\Lenovo\\AppData\\Local\\Programs\\Python\\Python310\\lib\\site-packages\\sklearn\\base.py:450: UserWarning: X does not have valid feature names, but KNeighborsRegressor was fitted with feature names\n",
      "  warnings.warn(\n"
     ]
    },
    {
     "data": {
      "text/plain": [
       "22.5625"
      ]
     },
     "execution_count": 5,
     "metadata": {},
     "output_type": "execute_result"
    }
   ],
   "source": [
    "test_array = np.array([CRIM, ZN, INDUS, CHAS, NOX, RM, AGE, DIS, RAD, TAX,\n",
    "       PTRATIO, B, LSTAT],ndmin=2)\n",
    "\n",
    "scaled_test_array = std.transform(test_array)\n",
    "\n",
    "predicted_value = model.predict(scaled_test_array)[0]\n",
    "predicted_value"
   ]
  },
  {
   "cell_type": "code",
   "execution_count": null,
   "id": "26a0deb5",
   "metadata": {},
   "outputs": [],
   "source": []
  },
  {
   "cell_type": "code",
   "execution_count": null,
   "id": "d322d35a",
   "metadata": {},
   "outputs": [],
   "source": []
  }
 ],
 "metadata": {
  "kernelspec": {
   "display_name": "Python 3 (ipykernel)",
   "language": "python",
   "name": "python3"
  },
  "language_info": {
   "codemirror_mode": {
    "name": "ipython",
    "version": 3
   },
   "file_extension": ".py",
   "mimetype": "text/x-python",
   "name": "python",
   "nbconvert_exporter": "python",
   "pygments_lexer": "ipython3",
   "version": "3.10.8"
  },
  "vscode": {
   "interpreter": {
    "hash": "20a9e06a1eee47c4abbed4ec8225ad91d78d9800d202b71b6b0a6e47016c6abd"
   }
  }
 },
 "nbformat": 4,
 "nbformat_minor": 5
}
