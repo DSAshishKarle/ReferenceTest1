{
 "cells": [
  {
   "cell_type": "code",
   "execution_count": 1,
   "id": "dd537918",
   "metadata": {},
   "outputs": [],
   "source": [
    "import pandas as pd\n",
    "import numpy as np\n",
    "from sklearn.preprocessing import MinMaxScaler, StandardScaler\n",
    "\n",
    "from sklearn.model_selection import train_test_split\n",
    "\n",
    "from sklearn.neighbors import KNeighborsRegressor\n",
    "\n",
    "from sklearn.metrics import mean_absolute_error, mean_squared_error, r2_score\n",
    "\n",
    "import matplotlib.pyplot as plt\n",
    "import seaborn as sns\n",
    "\n",
    "\n",
    "import pickle\n",
    "import json\n",
    "\n",
    "from sklearn.datasets import load_boston"
   ]
  },
  {
   "cell_type": "markdown",
   "id": "815e1005",
   "metadata": {},
   "source": [
    "## Problem Statement"
   ]
  },
  {
   "cell_type": "raw",
   "id": "4a1d53c1",
   "metadata": {},
   "source": [
    "Predict the prize using varioue features"
   ]
  },
  {
   "cell_type": "markdown",
   "id": "d515735f",
   "metadata": {},
   "source": [
    "## Data Gathering"
   ]
  },
  {
   "cell_type": "code",
   "execution_count": 2,
   "id": "e61c8c4e",
   "metadata": {},
   "outputs": [
    {
     "name": "stderr",
     "output_type": "stream",
     "text": [
      "C:\\Users\\Lenovo\\AppData\\Local\\Programs\\Python\\Python310\\lib\\site-packages\\sklearn\\utils\\deprecation.py:87: FutureWarning: Function load_boston is deprecated; `load_boston` is deprecated in 1.0 and will be removed in 1.2.\n",
      "\n",
      "    The Boston housing prices dataset has an ethical problem. You can refer to\n",
      "    the documentation of this function for further details.\n",
      "\n",
      "    The scikit-learn maintainers therefore strongly discourage the use of this\n",
      "    dataset unless the purpose of the code is to study and educate about\n",
      "    ethical issues in data science and machine learning.\n",
      "\n",
      "    In this special case, you can fetch the dataset from the original\n",
      "    source::\n",
      "\n",
      "        import pandas as pd\n",
      "        import numpy as np\n",
      "\n",
      "        data_url = \"http://lib.stat.cmu.edu/datasets/boston\"\n",
      "        raw_df = pd.read_csv(data_url, sep=\"\\s+\", skiprows=22, header=None)\n",
      "        data = np.hstack([raw_df.values[::2, :], raw_df.values[1::2, :2]])\n",
      "        target = raw_df.values[1::2, 2]\n",
      "\n",
      "    Alternative datasets include the California housing dataset (i.e.\n",
      "    :func:`~sklearn.datasets.fetch_california_housing`) and the Ames housing\n",
      "    dataset. You can load the datasets as follows::\n",
      "\n",
      "        from sklearn.datasets import fetch_california_housing\n",
      "        housing = fetch_california_housing()\n",
      "\n",
      "    for the California housing dataset and::\n",
      "\n",
      "        from sklearn.datasets import fetch_openml\n",
      "        housing = fetch_openml(name=\"house_prices\", as_frame=True)\n",
      "\n",
      "    for the Ames housing dataset.\n",
      "  warnings.warn(msg, category=FutureWarning)\n"
     ]
    },
    {
     "data": {
      "text/html": [
       "<div>\n",
       "<style scoped>\n",
       "    .dataframe tbody tr th:only-of-type {\n",
       "        vertical-align: middle;\n",
       "    }\n",
       "\n",
       "    .dataframe tbody tr th {\n",
       "        vertical-align: top;\n",
       "    }\n",
       "\n",
       "    .dataframe thead th {\n",
       "        text-align: right;\n",
       "    }\n",
       "</style>\n",
       "<table border=\"1\" class=\"dataframe\">\n",
       "  <thead>\n",
       "    <tr style=\"text-align: right;\">\n",
       "      <th></th>\n",
       "      <th>CRIM</th>\n",
       "      <th>ZN</th>\n",
       "      <th>INDUS</th>\n",
       "      <th>CHAS</th>\n",
       "      <th>NOX</th>\n",
       "      <th>RM</th>\n",
       "      <th>AGE</th>\n",
       "      <th>DIS</th>\n",
       "      <th>RAD</th>\n",
       "      <th>TAX</th>\n",
       "      <th>PTRATIO</th>\n",
       "      <th>B</th>\n",
       "      <th>LSTAT</th>\n",
       "      <th>PRICE</th>\n",
       "    </tr>\n",
       "  </thead>\n",
       "  <tbody>\n",
       "    <tr>\n",
       "      <th>0</th>\n",
       "      <td>0.00632</td>\n",
       "      <td>18.0</td>\n",
       "      <td>2.31</td>\n",
       "      <td>0.0</td>\n",
       "      <td>0.538</td>\n",
       "      <td>6.575</td>\n",
       "      <td>65.2</td>\n",
       "      <td>4.0900</td>\n",
       "      <td>1.0</td>\n",
       "      <td>296.0</td>\n",
       "      <td>15.3</td>\n",
       "      <td>396.90</td>\n",
       "      <td>4.98</td>\n",
       "      <td>24.0</td>\n",
       "    </tr>\n",
       "    <tr>\n",
       "      <th>1</th>\n",
       "      <td>0.02731</td>\n",
       "      <td>0.0</td>\n",
       "      <td>7.07</td>\n",
       "      <td>0.0</td>\n",
       "      <td>0.469</td>\n",
       "      <td>6.421</td>\n",
       "      <td>78.9</td>\n",
       "      <td>4.9671</td>\n",
       "      <td>2.0</td>\n",
       "      <td>242.0</td>\n",
       "      <td>17.8</td>\n",
       "      <td>396.90</td>\n",
       "      <td>9.14</td>\n",
       "      <td>21.6</td>\n",
       "    </tr>\n",
       "    <tr>\n",
       "      <th>2</th>\n",
       "      <td>0.02729</td>\n",
       "      <td>0.0</td>\n",
       "      <td>7.07</td>\n",
       "      <td>0.0</td>\n",
       "      <td>0.469</td>\n",
       "      <td>7.185</td>\n",
       "      <td>61.1</td>\n",
       "      <td>4.9671</td>\n",
       "      <td>2.0</td>\n",
       "      <td>242.0</td>\n",
       "      <td>17.8</td>\n",
       "      <td>392.83</td>\n",
       "      <td>4.03</td>\n",
       "      <td>34.7</td>\n",
       "    </tr>\n",
       "    <tr>\n",
       "      <th>3</th>\n",
       "      <td>0.03237</td>\n",
       "      <td>0.0</td>\n",
       "      <td>2.18</td>\n",
       "      <td>0.0</td>\n",
       "      <td>0.458</td>\n",
       "      <td>6.998</td>\n",
       "      <td>45.8</td>\n",
       "      <td>6.0622</td>\n",
       "      <td>3.0</td>\n",
       "      <td>222.0</td>\n",
       "      <td>18.7</td>\n",
       "      <td>394.63</td>\n",
       "      <td>2.94</td>\n",
       "      <td>33.4</td>\n",
       "    </tr>\n",
       "    <tr>\n",
       "      <th>4</th>\n",
       "      <td>0.06905</td>\n",
       "      <td>0.0</td>\n",
       "      <td>2.18</td>\n",
       "      <td>0.0</td>\n",
       "      <td>0.458</td>\n",
       "      <td>7.147</td>\n",
       "      <td>54.2</td>\n",
       "      <td>6.0622</td>\n",
       "      <td>3.0</td>\n",
       "      <td>222.0</td>\n",
       "      <td>18.7</td>\n",
       "      <td>396.90</td>\n",
       "      <td>5.33</td>\n",
       "      <td>36.2</td>\n",
       "    </tr>\n",
       "    <tr>\n",
       "      <th>...</th>\n",
       "      <td>...</td>\n",
       "      <td>...</td>\n",
       "      <td>...</td>\n",
       "      <td>...</td>\n",
       "      <td>...</td>\n",
       "      <td>...</td>\n",
       "      <td>...</td>\n",
       "      <td>...</td>\n",
       "      <td>...</td>\n",
       "      <td>...</td>\n",
       "      <td>...</td>\n",
       "      <td>...</td>\n",
       "      <td>...</td>\n",
       "      <td>...</td>\n",
       "    </tr>\n",
       "    <tr>\n",
       "      <th>501</th>\n",
       "      <td>0.06263</td>\n",
       "      <td>0.0</td>\n",
       "      <td>11.93</td>\n",
       "      <td>0.0</td>\n",
       "      <td>0.573</td>\n",
       "      <td>6.593</td>\n",
       "      <td>69.1</td>\n",
       "      <td>2.4786</td>\n",
       "      <td>1.0</td>\n",
       "      <td>273.0</td>\n",
       "      <td>21.0</td>\n",
       "      <td>391.99</td>\n",
       "      <td>9.67</td>\n",
       "      <td>22.4</td>\n",
       "    </tr>\n",
       "    <tr>\n",
       "      <th>502</th>\n",
       "      <td>0.04527</td>\n",
       "      <td>0.0</td>\n",
       "      <td>11.93</td>\n",
       "      <td>0.0</td>\n",
       "      <td>0.573</td>\n",
       "      <td>6.120</td>\n",
       "      <td>76.7</td>\n",
       "      <td>2.2875</td>\n",
       "      <td>1.0</td>\n",
       "      <td>273.0</td>\n",
       "      <td>21.0</td>\n",
       "      <td>396.90</td>\n",
       "      <td>9.08</td>\n",
       "      <td>20.6</td>\n",
       "    </tr>\n",
       "    <tr>\n",
       "      <th>503</th>\n",
       "      <td>0.06076</td>\n",
       "      <td>0.0</td>\n",
       "      <td>11.93</td>\n",
       "      <td>0.0</td>\n",
       "      <td>0.573</td>\n",
       "      <td>6.976</td>\n",
       "      <td>91.0</td>\n",
       "      <td>2.1675</td>\n",
       "      <td>1.0</td>\n",
       "      <td>273.0</td>\n",
       "      <td>21.0</td>\n",
       "      <td>396.90</td>\n",
       "      <td>5.64</td>\n",
       "      <td>23.9</td>\n",
       "    </tr>\n",
       "    <tr>\n",
       "      <th>504</th>\n",
       "      <td>0.10959</td>\n",
       "      <td>0.0</td>\n",
       "      <td>11.93</td>\n",
       "      <td>0.0</td>\n",
       "      <td>0.573</td>\n",
       "      <td>6.794</td>\n",
       "      <td>89.3</td>\n",
       "      <td>2.3889</td>\n",
       "      <td>1.0</td>\n",
       "      <td>273.0</td>\n",
       "      <td>21.0</td>\n",
       "      <td>393.45</td>\n",
       "      <td>6.48</td>\n",
       "      <td>22.0</td>\n",
       "    </tr>\n",
       "    <tr>\n",
       "      <th>505</th>\n",
       "      <td>0.04741</td>\n",
       "      <td>0.0</td>\n",
       "      <td>11.93</td>\n",
       "      <td>0.0</td>\n",
       "      <td>0.573</td>\n",
       "      <td>6.030</td>\n",
       "      <td>80.8</td>\n",
       "      <td>2.5050</td>\n",
       "      <td>1.0</td>\n",
       "      <td>273.0</td>\n",
       "      <td>21.0</td>\n",
       "      <td>396.90</td>\n",
       "      <td>7.88</td>\n",
       "      <td>11.9</td>\n",
       "    </tr>\n",
       "  </tbody>\n",
       "</table>\n",
       "<p>506 rows × 14 columns</p>\n",
       "</div>"
      ],
      "text/plain": [
       "        CRIM    ZN  INDUS  CHAS    NOX     RM   AGE     DIS  RAD    TAX  \\\n",
       "0    0.00632  18.0   2.31   0.0  0.538  6.575  65.2  4.0900  1.0  296.0   \n",
       "1    0.02731   0.0   7.07   0.0  0.469  6.421  78.9  4.9671  2.0  242.0   \n",
       "2    0.02729   0.0   7.07   0.0  0.469  7.185  61.1  4.9671  2.0  242.0   \n",
       "3    0.03237   0.0   2.18   0.0  0.458  6.998  45.8  6.0622  3.0  222.0   \n",
       "4    0.06905   0.0   2.18   0.0  0.458  7.147  54.2  6.0622  3.0  222.0   \n",
       "..       ...   ...    ...   ...    ...    ...   ...     ...  ...    ...   \n",
       "501  0.06263   0.0  11.93   0.0  0.573  6.593  69.1  2.4786  1.0  273.0   \n",
       "502  0.04527   0.0  11.93   0.0  0.573  6.120  76.7  2.2875  1.0  273.0   \n",
       "503  0.06076   0.0  11.93   0.0  0.573  6.976  91.0  2.1675  1.0  273.0   \n",
       "504  0.10959   0.0  11.93   0.0  0.573  6.794  89.3  2.3889  1.0  273.0   \n",
       "505  0.04741   0.0  11.93   0.0  0.573  6.030  80.8  2.5050  1.0  273.0   \n",
       "\n",
       "     PTRATIO       B  LSTAT  PRICE  \n",
       "0       15.3  396.90   4.98   24.0  \n",
       "1       17.8  396.90   9.14   21.6  \n",
       "2       17.8  392.83   4.03   34.7  \n",
       "3       18.7  394.63   2.94   33.4  \n",
       "4       18.7  396.90   5.33   36.2  \n",
       "..       ...     ...    ...    ...  \n",
       "501     21.0  391.99   9.67   22.4  \n",
       "502     21.0  396.90   9.08   20.6  \n",
       "503     21.0  396.90   5.64   23.9  \n",
       "504     21.0  393.45   6.48   22.0  \n",
       "505     21.0  396.90   7.88   11.9  \n",
       "\n",
       "[506 rows x 14 columns]"
      ]
     },
     "execution_count": 2,
     "metadata": {},
     "output_type": "execute_result"
    }
   ],
   "source": [
    "boston_data = load_boston()\n",
    "df  = pd.DataFrame(boston_data.data, columns = boston_data.feature_names)\n",
    "df[\"PRICE\"] = boston_data.target\n",
    "df"
   ]
  },
  {
   "cell_type": "code",
   "execution_count": 3,
   "id": "d05cee19",
   "metadata": {},
   "outputs": [
    {
     "data": {
      "text/plain": [
       "<bound method DataFrame.info of         CRIM    ZN  INDUS  CHAS    NOX     RM   AGE     DIS  RAD    TAX  \\\n",
       "0    0.00632  18.0   2.31   0.0  0.538  6.575  65.2  4.0900  1.0  296.0   \n",
       "1    0.02731   0.0   7.07   0.0  0.469  6.421  78.9  4.9671  2.0  242.0   \n",
       "2    0.02729   0.0   7.07   0.0  0.469  7.185  61.1  4.9671  2.0  242.0   \n",
       "3    0.03237   0.0   2.18   0.0  0.458  6.998  45.8  6.0622  3.0  222.0   \n",
       "4    0.06905   0.0   2.18   0.0  0.458  7.147  54.2  6.0622  3.0  222.0   \n",
       "..       ...   ...    ...   ...    ...    ...   ...     ...  ...    ...   \n",
       "501  0.06263   0.0  11.93   0.0  0.573  6.593  69.1  2.4786  1.0  273.0   \n",
       "502  0.04527   0.0  11.93   0.0  0.573  6.120  76.7  2.2875  1.0  273.0   \n",
       "503  0.06076   0.0  11.93   0.0  0.573  6.976  91.0  2.1675  1.0  273.0   \n",
       "504  0.10959   0.0  11.93   0.0  0.573  6.794  89.3  2.3889  1.0  273.0   \n",
       "505  0.04741   0.0  11.93   0.0  0.573  6.030  80.8  2.5050  1.0  273.0   \n",
       "\n",
       "     PTRATIO       B  LSTAT  PRICE  \n",
       "0       15.3  396.90   4.98   24.0  \n",
       "1       17.8  396.90   9.14   21.6  \n",
       "2       17.8  392.83   4.03   34.7  \n",
       "3       18.7  394.63   2.94   33.4  \n",
       "4       18.7  396.90   5.33   36.2  \n",
       "..       ...     ...    ...    ...  \n",
       "501     21.0  391.99   9.67   22.4  \n",
       "502     21.0  396.90   9.08   20.6  \n",
       "503     21.0  396.90   5.64   23.9  \n",
       "504     21.0  393.45   6.48   22.0  \n",
       "505     21.0  396.90   7.88   11.9  \n",
       "\n",
       "[506 rows x 14 columns]>"
      ]
     },
     "execution_count": 3,
     "metadata": {},
     "output_type": "execute_result"
    }
   ],
   "source": [
    "df.info"
   ]
  },
  {
   "cell_type": "code",
   "execution_count": 4,
   "id": "9df4b120",
   "metadata": {},
   "outputs": [
    {
     "data": {
      "text/html": [
       "<div>\n",
       "<style scoped>\n",
       "    .dataframe tbody tr th:only-of-type {\n",
       "        vertical-align: middle;\n",
       "    }\n",
       "\n",
       "    .dataframe tbody tr th {\n",
       "        vertical-align: top;\n",
       "    }\n",
       "\n",
       "    .dataframe thead th {\n",
       "        text-align: right;\n",
       "    }\n",
       "</style>\n",
       "<table border=\"1\" class=\"dataframe\">\n",
       "  <thead>\n",
       "    <tr style=\"text-align: right;\">\n",
       "      <th></th>\n",
       "      <th>CRIM</th>\n",
       "      <th>ZN</th>\n",
       "      <th>INDUS</th>\n",
       "      <th>CHAS</th>\n",
       "      <th>NOX</th>\n",
       "      <th>RM</th>\n",
       "      <th>AGE</th>\n",
       "      <th>DIS</th>\n",
       "      <th>RAD</th>\n",
       "      <th>TAX</th>\n",
       "      <th>PTRATIO</th>\n",
       "      <th>B</th>\n",
       "      <th>LSTAT</th>\n",
       "      <th>PRICE</th>\n",
       "    </tr>\n",
       "  </thead>\n",
       "  <tbody>\n",
       "    <tr>\n",
       "      <th>count</th>\n",
       "      <td>506.000000</td>\n",
       "      <td>506.000000</td>\n",
       "      <td>506.000000</td>\n",
       "      <td>506.000000</td>\n",
       "      <td>506.000000</td>\n",
       "      <td>506.000000</td>\n",
       "      <td>506.000000</td>\n",
       "      <td>506.000000</td>\n",
       "      <td>506.000000</td>\n",
       "      <td>506.000000</td>\n",
       "      <td>506.000000</td>\n",
       "      <td>506.000000</td>\n",
       "      <td>506.000000</td>\n",
       "      <td>506.000000</td>\n",
       "    </tr>\n",
       "    <tr>\n",
       "      <th>mean</th>\n",
       "      <td>3.613524</td>\n",
       "      <td>11.363636</td>\n",
       "      <td>11.136779</td>\n",
       "      <td>0.069170</td>\n",
       "      <td>0.554695</td>\n",
       "      <td>6.284634</td>\n",
       "      <td>68.574901</td>\n",
       "      <td>3.795043</td>\n",
       "      <td>9.549407</td>\n",
       "      <td>408.237154</td>\n",
       "      <td>18.455534</td>\n",
       "      <td>356.674032</td>\n",
       "      <td>12.653063</td>\n",
       "      <td>22.532806</td>\n",
       "    </tr>\n",
       "    <tr>\n",
       "      <th>std</th>\n",
       "      <td>8.601545</td>\n",
       "      <td>23.322453</td>\n",
       "      <td>6.860353</td>\n",
       "      <td>0.253994</td>\n",
       "      <td>0.115878</td>\n",
       "      <td>0.702617</td>\n",
       "      <td>28.148861</td>\n",
       "      <td>2.105710</td>\n",
       "      <td>8.707259</td>\n",
       "      <td>168.537116</td>\n",
       "      <td>2.164946</td>\n",
       "      <td>91.294864</td>\n",
       "      <td>7.141062</td>\n",
       "      <td>9.197104</td>\n",
       "    </tr>\n",
       "    <tr>\n",
       "      <th>min</th>\n",
       "      <td>0.006320</td>\n",
       "      <td>0.000000</td>\n",
       "      <td>0.460000</td>\n",
       "      <td>0.000000</td>\n",
       "      <td>0.385000</td>\n",
       "      <td>3.561000</td>\n",
       "      <td>2.900000</td>\n",
       "      <td>1.129600</td>\n",
       "      <td>1.000000</td>\n",
       "      <td>187.000000</td>\n",
       "      <td>12.600000</td>\n",
       "      <td>0.320000</td>\n",
       "      <td>1.730000</td>\n",
       "      <td>5.000000</td>\n",
       "    </tr>\n",
       "    <tr>\n",
       "      <th>25%</th>\n",
       "      <td>0.082045</td>\n",
       "      <td>0.000000</td>\n",
       "      <td>5.190000</td>\n",
       "      <td>0.000000</td>\n",
       "      <td>0.449000</td>\n",
       "      <td>5.885500</td>\n",
       "      <td>45.025000</td>\n",
       "      <td>2.100175</td>\n",
       "      <td>4.000000</td>\n",
       "      <td>279.000000</td>\n",
       "      <td>17.400000</td>\n",
       "      <td>375.377500</td>\n",
       "      <td>6.950000</td>\n",
       "      <td>17.025000</td>\n",
       "    </tr>\n",
       "    <tr>\n",
       "      <th>50%</th>\n",
       "      <td>0.256510</td>\n",
       "      <td>0.000000</td>\n",
       "      <td>9.690000</td>\n",
       "      <td>0.000000</td>\n",
       "      <td>0.538000</td>\n",
       "      <td>6.208500</td>\n",
       "      <td>77.500000</td>\n",
       "      <td>3.207450</td>\n",
       "      <td>5.000000</td>\n",
       "      <td>330.000000</td>\n",
       "      <td>19.050000</td>\n",
       "      <td>391.440000</td>\n",
       "      <td>11.360000</td>\n",
       "      <td>21.200000</td>\n",
       "    </tr>\n",
       "    <tr>\n",
       "      <th>75%</th>\n",
       "      <td>3.677083</td>\n",
       "      <td>12.500000</td>\n",
       "      <td>18.100000</td>\n",
       "      <td>0.000000</td>\n",
       "      <td>0.624000</td>\n",
       "      <td>6.623500</td>\n",
       "      <td>94.075000</td>\n",
       "      <td>5.188425</td>\n",
       "      <td>24.000000</td>\n",
       "      <td>666.000000</td>\n",
       "      <td>20.200000</td>\n",
       "      <td>396.225000</td>\n",
       "      <td>16.955000</td>\n",
       "      <td>25.000000</td>\n",
       "    </tr>\n",
       "    <tr>\n",
       "      <th>max</th>\n",
       "      <td>88.976200</td>\n",
       "      <td>100.000000</td>\n",
       "      <td>27.740000</td>\n",
       "      <td>1.000000</td>\n",
       "      <td>0.871000</td>\n",
       "      <td>8.780000</td>\n",
       "      <td>100.000000</td>\n",
       "      <td>12.126500</td>\n",
       "      <td>24.000000</td>\n",
       "      <td>711.000000</td>\n",
       "      <td>22.000000</td>\n",
       "      <td>396.900000</td>\n",
       "      <td>37.970000</td>\n",
       "      <td>50.000000</td>\n",
       "    </tr>\n",
       "  </tbody>\n",
       "</table>\n",
       "</div>"
      ],
      "text/plain": [
       "             CRIM          ZN       INDUS        CHAS         NOX          RM  \\\n",
       "count  506.000000  506.000000  506.000000  506.000000  506.000000  506.000000   \n",
       "mean     3.613524   11.363636   11.136779    0.069170    0.554695    6.284634   \n",
       "std      8.601545   23.322453    6.860353    0.253994    0.115878    0.702617   \n",
       "min      0.006320    0.000000    0.460000    0.000000    0.385000    3.561000   \n",
       "25%      0.082045    0.000000    5.190000    0.000000    0.449000    5.885500   \n",
       "50%      0.256510    0.000000    9.690000    0.000000    0.538000    6.208500   \n",
       "75%      3.677083   12.500000   18.100000    0.000000    0.624000    6.623500   \n",
       "max     88.976200  100.000000   27.740000    1.000000    0.871000    8.780000   \n",
       "\n",
       "              AGE         DIS         RAD         TAX     PTRATIO           B  \\\n",
       "count  506.000000  506.000000  506.000000  506.000000  506.000000  506.000000   \n",
       "mean    68.574901    3.795043    9.549407  408.237154   18.455534  356.674032   \n",
       "std     28.148861    2.105710    8.707259  168.537116    2.164946   91.294864   \n",
       "min      2.900000    1.129600    1.000000  187.000000   12.600000    0.320000   \n",
       "25%     45.025000    2.100175    4.000000  279.000000   17.400000  375.377500   \n",
       "50%     77.500000    3.207450    5.000000  330.000000   19.050000  391.440000   \n",
       "75%     94.075000    5.188425   24.000000  666.000000   20.200000  396.225000   \n",
       "max    100.000000   12.126500   24.000000  711.000000   22.000000  396.900000   \n",
       "\n",
       "            LSTAT       PRICE  \n",
       "count  506.000000  506.000000  \n",
       "mean    12.653063   22.532806  \n",
       "std      7.141062    9.197104  \n",
       "min      1.730000    5.000000  \n",
       "25%      6.950000   17.025000  \n",
       "50%     11.360000   21.200000  \n",
       "75%     16.955000   25.000000  \n",
       "max     37.970000   50.000000  "
      ]
     },
     "execution_count": 4,
     "metadata": {},
     "output_type": "execute_result"
    }
   ],
   "source": [
    "df.describe()"
   ]
  },
  {
   "cell_type": "code",
   "execution_count": 5,
   "id": "54e6083f",
   "metadata": {},
   "outputs": [
    {
     "data": {
      "text/plain": [
       "CRIM       0\n",
       "ZN         0\n",
       "INDUS      0\n",
       "CHAS       0\n",
       "NOX        0\n",
       "RM         0\n",
       "AGE        0\n",
       "DIS        0\n",
       "RAD        0\n",
       "TAX        0\n",
       "PTRATIO    0\n",
       "B          0\n",
       "LSTAT      0\n",
       "PRICE      0\n",
       "dtype: int64"
      ]
     },
     "execution_count": 5,
     "metadata": {},
     "output_type": "execute_result"
    }
   ],
   "source": [
    "df.isna().sum()"
   ]
  },
  {
   "cell_type": "markdown",
   "id": "302ced6b",
   "metadata": {},
   "source": [
    "## Train_test_split"
   ]
  },
  {
   "cell_type": "code",
   "execution_count": 6,
   "id": "a4840833",
   "metadata": {},
   "outputs": [],
   "source": [
    "x = df.drop(\"PRICE\",axis=1)\n",
    "y = df[\"PRICE\"]"
   ]
  },
  {
   "cell_type": "code",
   "execution_count": 7,
   "id": "1b5b4829",
   "metadata": {},
   "outputs": [],
   "source": [
    "x_train,x_test,y_train,y_test = train_test_split(x,y,test_size=0.30,random_state=42)"
   ]
  },
  {
   "cell_type": "markdown",
   "id": "2d85ad1e",
   "metadata": {},
   "source": [
    "## Model Training"
   ]
  },
  {
   "cell_type": "code",
   "execution_count": 8,
   "id": "9d08d594",
   "metadata": {},
   "outputs": [
    {
     "data": {
      "text/html": [
       "<style>#sk-container-id-1 {color: black;background-color: white;}#sk-container-id-1 pre{padding: 0;}#sk-container-id-1 div.sk-toggleable {background-color: white;}#sk-container-id-1 label.sk-toggleable__label {cursor: pointer;display: block;width: 100%;margin-bottom: 0;padding: 0.3em;box-sizing: border-box;text-align: center;}#sk-container-id-1 label.sk-toggleable__label-arrow:before {content: \"▸\";float: left;margin-right: 0.25em;color: #696969;}#sk-container-id-1 label.sk-toggleable__label-arrow:hover:before {color: black;}#sk-container-id-1 div.sk-estimator:hover label.sk-toggleable__label-arrow:before {color: black;}#sk-container-id-1 div.sk-toggleable__content {max-height: 0;max-width: 0;overflow: hidden;text-align: left;background-color: #f0f8ff;}#sk-container-id-1 div.sk-toggleable__content pre {margin: 0.2em;color: black;border-radius: 0.25em;background-color: #f0f8ff;}#sk-container-id-1 input.sk-toggleable__control:checked~div.sk-toggleable__content {max-height: 200px;max-width: 100%;overflow: auto;}#sk-container-id-1 input.sk-toggleable__control:checked~label.sk-toggleable__label-arrow:before {content: \"▾\";}#sk-container-id-1 div.sk-estimator input.sk-toggleable__control:checked~label.sk-toggleable__label {background-color: #d4ebff;}#sk-container-id-1 div.sk-label input.sk-toggleable__control:checked~label.sk-toggleable__label {background-color: #d4ebff;}#sk-container-id-1 input.sk-hidden--visually {border: 0;clip: rect(1px 1px 1px 1px);clip: rect(1px, 1px, 1px, 1px);height: 1px;margin: -1px;overflow: hidden;padding: 0;position: absolute;width: 1px;}#sk-container-id-1 div.sk-estimator {font-family: monospace;background-color: #f0f8ff;border: 1px dotted black;border-radius: 0.25em;box-sizing: border-box;margin-bottom: 0.5em;}#sk-container-id-1 div.sk-estimator:hover {background-color: #d4ebff;}#sk-container-id-1 div.sk-parallel-item::after {content: \"\";width: 100%;border-bottom: 1px solid gray;flex-grow: 1;}#sk-container-id-1 div.sk-label:hover label.sk-toggleable__label {background-color: #d4ebff;}#sk-container-id-1 div.sk-serial::before {content: \"\";position: absolute;border-left: 1px solid gray;box-sizing: border-box;top: 0;bottom: 0;left: 50%;z-index: 0;}#sk-container-id-1 div.sk-serial {display: flex;flex-direction: column;align-items: center;background-color: white;padding-right: 0.2em;padding-left: 0.2em;position: relative;}#sk-container-id-1 div.sk-item {position: relative;z-index: 1;}#sk-container-id-1 div.sk-parallel {display: flex;align-items: stretch;justify-content: center;background-color: white;position: relative;}#sk-container-id-1 div.sk-item::before, #sk-container-id-1 div.sk-parallel-item::before {content: \"\";position: absolute;border-left: 1px solid gray;box-sizing: border-box;top: 0;bottom: 0;left: 50%;z-index: -1;}#sk-container-id-1 div.sk-parallel-item {display: flex;flex-direction: column;z-index: 1;position: relative;background-color: white;}#sk-container-id-1 div.sk-parallel-item:first-child::after {align-self: flex-end;width: 50%;}#sk-container-id-1 div.sk-parallel-item:last-child::after {align-self: flex-start;width: 50%;}#sk-container-id-1 div.sk-parallel-item:only-child::after {width: 0;}#sk-container-id-1 div.sk-dashed-wrapped {border: 1px dashed gray;margin: 0 0.4em 0.5em 0.4em;box-sizing: border-box;padding-bottom: 0.4em;background-color: white;}#sk-container-id-1 div.sk-label label {font-family: monospace;font-weight: bold;display: inline-block;line-height: 1.2em;}#sk-container-id-1 div.sk-label-container {text-align: center;}#sk-container-id-1 div.sk-container {/* jupyter's `normalize.less` sets `[hidden] { display: none; }` but bootstrap.min.css set `[hidden] { display: none !important; }` so we also need the `!important` here to be able to override the default hidden behavior on the sphinx rendered scikit-learn.org. See: https://github.com/scikit-learn/scikit-learn/issues/21755 */display: inline-block !important;position: relative;}#sk-container-id-1 div.sk-text-repr-fallback {display: none;}</style><div id=\"sk-container-id-1\" class=\"sk-top-container\"><div class=\"sk-text-repr-fallback\"><pre>KNeighborsRegressor()</pre><b>In a Jupyter environment, please rerun this cell to show the HTML representation or trust the notebook. <br />On GitHub, the HTML representation is unable to render, please try loading this page with nbviewer.org.</b></div><div class=\"sk-container\" hidden><div class=\"sk-item\"><div class=\"sk-estimator sk-toggleable\"><input class=\"sk-toggleable__control sk-hidden--visually\" id=\"sk-estimator-id-1\" type=\"checkbox\" checked><label for=\"sk-estimator-id-1\" class=\"sk-toggleable__label sk-toggleable__label-arrow\">KNeighborsRegressor</label><div class=\"sk-toggleable__content\"><pre>KNeighborsRegressor()</pre></div></div></div></div></div>"
      ],
      "text/plain": [
       "KNeighborsRegressor()"
      ]
     },
     "execution_count": 8,
     "metadata": {},
     "output_type": "execute_result"
    }
   ],
   "source": [
    "knn_reg = KNeighborsRegressor()\n",
    "knn_reg.fit(x_train,y_train)"
   ]
  },
  {
   "cell_type": "markdown",
   "id": "5265a8dd",
   "metadata": {},
   "source": [
    "## Evaluation on Testing"
   ]
  },
  {
   "cell_type": "code",
   "execution_count": 9,
   "id": "29b15d90",
   "metadata": {},
   "outputs": [
    {
     "data": {
      "text/plain": [
       "array([29.34, 14.6 , 28.96, 17.44])"
      ]
     },
     "execution_count": 9,
     "metadata": {},
     "output_type": "execute_result"
    }
   ],
   "source": [
    "y_pred = knn_reg.predict(x_test)\n",
    "y_pred[1:5]"
   ]
  },
  {
   "cell_type": "code",
   "execution_count": 10,
   "id": "7641a2bb",
   "metadata": {},
   "outputs": [
    {
     "name": "stderr",
     "output_type": "stream",
     "text": [
      "C:\\Users\\Lenovo\\AppData\\Local\\Temp\\ipykernel_17780\\1841574442.py:1: FutureWarning: The behavior of `series[i:j]` with an integer-dtype index is deprecated. In a future version, this will be treated as *label-based* indexing, consistent with e.g. `series[i]` lookups. To retain the old behavior, use `series.iloc[i:j]`. To get the future behavior, use `series.loc[i:j]`.\n",
      "  y_test[1:5]\n"
     ]
    },
    {
     "data": {
      "text/plain": [
       "274    32.4\n",
       "491    13.6\n",
       "72     22.8\n",
       "452    16.1\n",
       "Name: PRICE, dtype: float64"
      ]
     },
     "execution_count": 10,
     "metadata": {},
     "output_type": "execute_result"
    }
   ],
   "source": [
    "y_test[1:5]"
   ]
  },
  {
   "cell_type": "markdown",
   "id": "3d1fff86",
   "metadata": {},
   "source": [
    "#### Testing data Accuracy"
   ]
  },
  {
   "cell_type": "code",
   "execution_count": 11,
   "id": "85e55a7d",
   "metadata": {},
   "outputs": [
    {
     "name": "stdout",
     "output_type": "stream",
     "text": [
      "MSE:  30.94554736842105\n",
      "RMSE:  5.562872222909767\n",
      "MAE:  4.026315789473684\n",
      "R2_score:  0.5846965270656936\n"
     ]
    }
   ],
   "source": [
    "mse = mean_squared_error(y_test,y_pred)\n",
    "print(\"MSE: \",mse)\n",
    "\n",
    "rmse = np.sqrt(mse)\n",
    "print(\"RMSE: \",rmse)\n",
    "\n",
    "mae = mean_absolute_error(y_test,y_pred)\n",
    "print(\"MAE: \",mae)\n",
    "\n",
    "r2_value = r2_score(y_test,y_pred)\n",
    "print(\"R2_score: \", r2_value)"
   ]
  },
  {
   "cell_type": "markdown",
   "id": "d7df7fd1",
   "metadata": {},
   "source": [
    "## Evaluation on training"
   ]
  },
  {
   "cell_type": "code",
   "execution_count": 12,
   "id": "4866bd62",
   "metadata": {},
   "outputs": [
    {
     "data": {
      "text/plain": [
       "array([22.48, 23.42, 30.68, 18.76, 41.88])"
      ]
     },
     "execution_count": 12,
     "metadata": {},
     "output_type": "execute_result"
    }
   ],
   "source": [
    "y_pred_train = knn_reg.predict(x_train)\n",
    "y_pred_train[10:15]"
   ]
  },
  {
   "cell_type": "code",
   "execution_count": 13,
   "id": "cd6331a1",
   "metadata": {},
   "outputs": [
    {
     "name": "stderr",
     "output_type": "stream",
     "text": [
      "C:\\Users\\Lenovo\\AppData\\Local\\Temp\\ipykernel_17780\\3897609327.py:1: FutureWarning: The behavior of `series[i:j]` with an integer-dtype index is deprecated. In a future version, this will be treated as *label-based* indexing, consistent with e.g. `series[i]` lookups. To retain the old behavior, use `series.iloc[i:j]`. To get the future behavior, use `series.loc[i:j]`.\n",
      "  y_train[10:15]\n"
     ]
    },
    {
     "data": {
      "text/plain": [
       "110    21.7\n",
       "321    23.1\n",
       "265    22.8\n",
       "29     21.0\n",
       "262    48.8\n",
       "Name: PRICE, dtype: float64"
      ]
     },
     "execution_count": 13,
     "metadata": {},
     "output_type": "execute_result"
    }
   ],
   "source": [
    "y_train[10:15]"
   ]
  },
  {
   "cell_type": "markdown",
   "id": "2328a327",
   "metadata": {},
   "source": [
    "#### Training data Accuracy"
   ]
  },
  {
   "cell_type": "code",
   "execution_count": 14,
   "id": "e7bff753",
   "metadata": {},
   "outputs": [
    {
     "name": "stdout",
     "output_type": "stream",
     "text": [
      "MSE:  29.907274576271185\n",
      "RMSE:  5.468754389828747\n",
      "MAE:  3.812429378531073\n",
      "R2_score:  0.6597445339903338\n"
     ]
    }
   ],
   "source": [
    "mse = mean_squared_error(y_train,y_pred_train)\n",
    "print(\"MSE: \",mse)\n",
    "\n",
    "rmse = np.sqrt(mse)\n",
    "print(\"RMSE: \",rmse)\n",
    "\n",
    "mae = mean_absolute_error(y_train,y_pred_train)\n",
    "print(\"MAE: \",mae)\n",
    "\n",
    "r2_value = r2_score(y_train,y_pred_train)\n",
    "print(\"R2_score: \", r2_value)"
   ]
  },
  {
   "cell_type": "code",
   "execution_count": 15,
   "id": "cb22b5f5",
   "metadata": {},
   "outputs": [
    {
     "name": "stdout",
     "output_type": "stream",
     "text": [
      "R2_train_list:  [0.8422678317110016, 0.7763639814693608, 0.7464032360273241, 0.7159804045768255, 0.7209611575212005, 0.686894455573468, 0.6584155499746238, 0.6416992039752559, 0.6205272614781198, 0.5959844078354819, 0.5689056605394439, 0.5607729960926184, 0.5477262187507751, 0.5306818647501165, 0.5206770893736683, 0.5091119995229763, 0.49815324582914977, 0.4812733596001725, 0.4718115507232883]\n",
      "********************************************************************************\n",
      "R2_test_list:  [0.7080557773452787, 0.6669356799682569, 0.6854089722465078, 0.6820022415141848, 0.6677680084451827, 0.6283671802357105, 0.6073365926876988, 0.6102506097830468, 0.5822941853069944, 0.5783231930519102, 0.5694932644518632, 0.5591640923583219, 0.5447273676922734, 0.5314086413406811, 0.5233412488332612, 0.5232262921531481, 0.5069466262989463, 0.5016457183624169, 0.49833262381791443]\n"
     ]
    }
   ],
   "source": [
    "r2_train_list = []\n",
    "r2_test_list = []\n",
    "\n",
    "k_values = range(2,21)\n",
    "for k in k_values:\n",
    "    knn_reg = KNeighborsRegressor(n_neighbors=k,p=1)\n",
    "    knn_reg.fit(x_train,y_train)\n",
    "    r2_train = knn_reg.score(x_train,y_train)\n",
    "    r2_train_list.append(r2_train)\n",
    "    r2_test = knn_reg.score(x_test,y_test)\n",
    "    r2_test_list.append(r2_test)\n",
    "    \n",
    "print(\"R2_train_list: \", r2_train_list) \n",
    "print(\"*\"*80)\n",
    "print(\"R2_test_list: \", r2_test_list)    "
   ]
  },
  {
   "cell_type": "code",
   "execution_count": 16,
   "id": "7f0b76db",
   "metadata": {},
   "outputs": [
    {
     "data": {
      "text/plain": [
       "Text(0.5, 1.0, 'Comparison of train and test accuracies')"
      ]
     },
     "execution_count": 16,
     "metadata": {},
     "output_type": "execute_result"
    },
    {
     "data": {
      "image/png": "[encoded data removed]",
      "text/plain": [
       "<Figure size 2000x1000 with 1 Axes>"
      ]
     },
     "metadata": {},
     "output_type": "display_data"
    }
   ],
   "source": [
    "plt.figure(figsize=(20,10))\n",
    "plt.plot(k_values,r2_train_list)\n",
    "plt.plot(k_values,r2_test_list)\n",
    "plt.xlabel(\"k_values\")\n",
    "plt.ylabel(\"Accuracy\")\n",
    "plt.title(\"Comparison of train and test accuracies\")"
   ]
  },
  {
   "cell_type": "raw",
   "id": "6edb1501",
   "metadata": {},
   "source": [
    "k = 3, p=1"
   ]
  },
  {
   "cell_type": "markdown",
   "id": "92332af8",
   "metadata": {},
   "source": [
    "## Model Training for k=3 and p=1"
   ]
  },
  {
   "cell_type": "code",
   "execution_count": 17,
   "id": "c829f7c8",
   "metadata": {},
   "outputs": [
    {
     "data": {
      "text/html": [
       "<style>#sk-container-id-2 {color: black;background-color: white;}#sk-container-id-2 pre{padding: 0;}#sk-container-id-2 div.sk-toggleable {background-color: white;}#sk-container-id-2 label.sk-toggleable__label {cursor: pointer;display: block;width: 100%;margin-bottom: 0;padding: 0.3em;box-sizing: border-box;text-align: center;}#sk-container-id-2 label.sk-toggleable__label-arrow:before {content: \"▸\";float: left;margin-right: 0.25em;color: #696969;}#sk-container-id-2 label.sk-toggleable__label-arrow:hover:before {color: black;}#sk-container-id-2 div.sk-estimator:hover label.sk-toggleable__label-arrow:before {color: black;}#sk-container-id-2 div.sk-toggleable__content {max-height: 0;max-width: 0;overflow: hidden;text-align: left;background-color: #f0f8ff;}#sk-container-id-2 div.sk-toggleable__content pre {margin: 0.2em;color: black;border-radius: 0.25em;background-color: #f0f8ff;}#sk-container-id-2 input.sk-toggleable__control:checked~div.sk-toggleable__content {max-height: 200px;max-width: 100%;overflow: auto;}#sk-container-id-2 input.sk-toggleable__control:checked~label.sk-toggleable__label-arrow:before {content: \"▾\";}#sk-container-id-2 div.sk-estimator input.sk-toggleable__control:checked~label.sk-toggleable__label {background-color: #d4ebff;}#sk-container-id-2 div.sk-label input.sk-toggleable__control:checked~label.sk-toggleable__label {background-color: #d4ebff;}#sk-container-id-2 input.sk-hidden--visually {border: 0;clip: rect(1px 1px 1px 1px);clip: rect(1px, 1px, 1px, 1px);height: 1px;margin: -1px;overflow: hidden;padding: 0;position: absolute;width: 1px;}#sk-container-id-2 div.sk-estimator {font-family: monospace;background-color: #f0f8ff;border: 1px dotted black;border-radius: 0.25em;box-sizing: border-box;margin-bottom: 0.5em;}#sk-container-id-2 div.sk-estimator:hover {background-color: #d4ebff;}#sk-container-id-2 div.sk-parallel-item::after {content: \"\";width: 100%;border-bottom: 1px solid gray;flex-grow: 1;}#sk-container-id-2 div.sk-label:hover label.sk-toggleable__label {background-color: #d4ebff;}#sk-container-id-2 div.sk-serial::before {content: \"\";position: absolute;border-left: 1px solid gray;box-sizing: border-box;top: 0;bottom: 0;left: 50%;z-index: 0;}#sk-container-id-2 div.sk-serial {display: flex;flex-direction: column;align-items: center;background-color: white;padding-right: 0.2em;padding-left: 0.2em;position: relative;}#sk-container-id-2 div.sk-item {position: relative;z-index: 1;}#sk-container-id-2 div.sk-parallel {display: flex;align-items: stretch;justify-content: center;background-color: white;position: relative;}#sk-container-id-2 div.sk-item::before, #sk-container-id-2 div.sk-parallel-item::before {content: \"\";position: absolute;border-left: 1px solid gray;box-sizing: border-box;top: 0;bottom: 0;left: 50%;z-index: -1;}#sk-container-id-2 div.sk-parallel-item {display: flex;flex-direction: column;z-index: 1;position: relative;background-color: white;}#sk-container-id-2 div.sk-parallel-item:first-child::after {align-self: flex-end;width: 50%;}#sk-container-id-2 div.sk-parallel-item:last-child::after {align-self: flex-start;width: 50%;}#sk-container-id-2 div.sk-parallel-item:only-child::after {width: 0;}#sk-container-id-2 div.sk-dashed-wrapped {border: 1px dashed gray;margin: 0 0.4em 0.5em 0.4em;box-sizing: border-box;padding-bottom: 0.4em;background-color: white;}#sk-container-id-2 div.sk-label label {font-family: monospace;font-weight: bold;display: inline-block;line-height: 1.2em;}#sk-container-id-2 div.sk-label-container {text-align: center;}#sk-container-id-2 div.sk-container {/* jupyter's `normalize.less` sets `[hidden] { display: none; }` but bootstrap.min.css set `[hidden] { display: none !important; }` so we also need the `!important` here to be able to override the default hidden behavior on the sphinx rendered scikit-learn.org. See: https://github.com/scikit-learn/scikit-learn/issues/21755 */display: inline-block !important;position: relative;}#sk-container-id-2 div.sk-text-repr-fallback {display: none;}</style><div id=\"sk-container-id-2\" class=\"sk-top-container\"><div class=\"sk-text-repr-fallback\"><pre>KNeighborsRegressor(n_neighbors=3, p=1)</pre><b>In a Jupyter environment, please rerun this cell to show the HTML representation or trust the notebook. <br />On GitHub, the HTML representation is unable to render, please try loading this page with nbviewer.org.</b></div><div class=\"sk-container\" hidden><div class=\"sk-item\"><div class=\"sk-estimator sk-toggleable\"><input class=\"sk-toggleable__control sk-hidden--visually\" id=\"sk-estimator-id-2\" type=\"checkbox\" checked><label for=\"sk-estimator-id-2\" class=\"sk-toggleable__label sk-toggleable__label-arrow\">KNeighborsRegressor</label><div class=\"sk-toggleable__content\"><pre>KNeighborsRegressor(n_neighbors=3, p=1)</pre></div></div></div></div></div>"
      ],
      "text/plain": [
       "KNeighborsRegressor(n_neighbors=3, p=1)"
      ]
     },
     "execution_count": 17,
     "metadata": {},
     "output_type": "execute_result"
    }
   ],
   "source": [
    "knn_reg = KNeighborsRegressor(n_neighbors=3,p=1)\n",
    "knn_reg.fit(x_train,y_train)"
   ]
  },
  {
   "cell_type": "markdown",
   "id": "07118638",
   "metadata": {},
   "source": [
    "## Evaluation on testing"
   ]
  },
  {
   "cell_type": "code",
   "execution_count": 18,
   "id": "25e54dbe",
   "metadata": {},
   "outputs": [],
   "source": [
    "y_pred = knn_reg.predict(x_test)"
   ]
  },
  {
   "cell_type": "code",
   "execution_count": 19,
   "id": "7db67d38",
   "metadata": {},
   "outputs": [
    {
     "name": "stdout",
     "output_type": "stream",
     "text": [
      "MSE:  24.817653508771926\n",
      "RMSE:  4.9817319788173995\n",
      "MAE:  3.6239035087719293\n",
      "R2_score:  0.6669356799682569\n"
     ]
    }
   ],
   "source": [
    "mse = mean_squared_error(y_test,y_pred)\n",
    "print(\"MSE: \",mse)\n",
    "rmse = np.sqrt(mse)\n",
    "print(\"RMSE: \",rmse)\n",
    "mae = mean_absolute_error(y_test,y_pred)\n",
    "print(\"MAE: \",mae)\n",
    "r2_value = r2_score(y_test,y_pred)\n",
    "print(\"R2_score: \", r2_value)"
   ]
  },
  {
   "cell_type": "markdown",
   "id": "36af9a1e",
   "metadata": {},
   "source": [
    "## Evaluation on training"
   ]
  },
  {
   "cell_type": "code",
   "execution_count": 20,
   "id": "638c3252",
   "metadata": {},
   "outputs": [],
   "source": [
    "y_pred_train = knn_reg.predict(x_train)"
   ]
  },
  {
   "cell_type": "code",
   "execution_count": 21,
   "id": "69e31171",
   "metadata": {},
   "outputs": [
    {
     "name": "stdout",
     "output_type": "stream",
     "text": [
      "MSE:  19.656829880728186\n",
      "RMSE:  4.43360235933808\n",
      "MAE:  2.9685499058380413\n",
      "R2_score:  0.7763639814693608\n"
     ]
    }
   ],
   "source": [
    "mse = mean_squared_error(y_train,y_pred_train)\n",
    "print(\"MSE: \",mse)\n",
    "\n",
    "rmse = np.sqrt(mse)\n",
    "print(\"RMSE: \",rmse)\n",
    "\n",
    "mae = mean_absolute_error(y_train,y_pred_train)\n",
    "print(\"MAE: \",mae)\n",
    "\n",
    "r2_value = r2_score(y_train,y_pred_train)\n",
    "print(\"R2_score: \", r2_value)"
   ]
  },
  {
   "cell_type": "markdown",
   "id": "9505e75e",
   "metadata": {},
   "source": [
    "## Feature Engineering"
   ]
  },
  {
   "cell_type": "code",
   "execution_count": 22,
   "id": "e27dfdad",
   "metadata": {},
   "outputs": [],
   "source": [
    "x = df.drop(\"PRICE\",axis=1)\n",
    "y = df[\"PRICE\"]"
   ]
  },
  {
   "cell_type": "code",
   "execution_count": 23,
   "id": "12b60a73",
   "metadata": {},
   "outputs": [],
   "source": [
    "x_train,x_test,y_train,y_test  = train_test_split(x,y,test_size=0.30,random_state=12)"
   ]
  },
  {
   "cell_type": "markdown",
   "id": "4fc01abe",
   "metadata": {},
   "source": [
    "## Normalisation "
   ]
  },
  {
   "cell_type": "code",
   "execution_count": 24,
   "id": "80d41dc7",
   "metadata": {},
   "outputs": [
    {
     "data": {
      "text/html": [
       "<div>\n",
       "<style scoped>\n",
       "    .dataframe tbody tr th:only-of-type {\n",
       "        vertical-align: middle;\n",
       "    }\n",
       "\n",
       "    .dataframe tbody tr th {\n",
       "        vertical-align: top;\n",
       "    }\n",
       "\n",
       "    .dataframe thead th {\n",
       "        text-align: right;\n",
       "    }\n",
       "</style>\n",
       "<table border=\"1\" class=\"dataframe\">\n",
       "  <thead>\n",
       "    <tr style=\"text-align: right;\">\n",
       "      <th></th>\n",
       "      <th>CRIM</th>\n",
       "      <th>ZN</th>\n",
       "      <th>INDUS</th>\n",
       "      <th>CHAS</th>\n",
       "      <th>NOX</th>\n",
       "      <th>RM</th>\n",
       "      <th>AGE</th>\n",
       "      <th>DIS</th>\n",
       "      <th>RAD</th>\n",
       "      <th>TAX</th>\n",
       "      <th>PTRATIO</th>\n",
       "      <th>B</th>\n",
       "      <th>LSTAT</th>\n",
       "    </tr>\n",
       "  </thead>\n",
       "  <tbody>\n",
       "    <tr>\n",
       "      <th>251</th>\n",
       "      <td>0.21409</td>\n",
       "      <td>22.0</td>\n",
       "      <td>5.86</td>\n",
       "      <td>0.0</td>\n",
       "      <td>0.4310</td>\n",
       "      <td>6.438</td>\n",
       "      <td>8.9</td>\n",
       "      <td>7.3967</td>\n",
       "      <td>7.0</td>\n",
       "      <td>330.0</td>\n",
       "      <td>19.1</td>\n",
       "      <td>377.07</td>\n",
       "      <td>3.59</td>\n",
       "    </tr>\n",
       "    <tr>\n",
       "      <th>465</th>\n",
       "      <td>3.16360</td>\n",
       "      <td>0.0</td>\n",
       "      <td>18.10</td>\n",
       "      <td>0.0</td>\n",
       "      <td>0.6550</td>\n",
       "      <td>5.759</td>\n",
       "      <td>48.2</td>\n",
       "      <td>3.0665</td>\n",
       "      <td>24.0</td>\n",
       "      <td>666.0</td>\n",
       "      <td>20.2</td>\n",
       "      <td>334.40</td>\n",
       "      <td>14.13</td>\n",
       "    </tr>\n",
       "    <tr>\n",
       "      <th>137</th>\n",
       "      <td>0.35233</td>\n",
       "      <td>0.0</td>\n",
       "      <td>21.89</td>\n",
       "      <td>0.0</td>\n",
       "      <td>0.6240</td>\n",
       "      <td>6.454</td>\n",
       "      <td>98.4</td>\n",
       "      <td>1.8498</td>\n",
       "      <td>4.0</td>\n",
       "      <td>437.0</td>\n",
       "      <td>21.2</td>\n",
       "      <td>394.08</td>\n",
       "      <td>14.59</td>\n",
       "    </tr>\n",
       "    <tr>\n",
       "      <th>311</th>\n",
       "      <td>0.79041</td>\n",
       "      <td>0.0</td>\n",
       "      <td>9.90</td>\n",
       "      <td>0.0</td>\n",
       "      <td>0.5440</td>\n",
       "      <td>6.122</td>\n",
       "      <td>52.8</td>\n",
       "      <td>2.6403</td>\n",
       "      <td>4.0</td>\n",
       "      <td>304.0</td>\n",
       "      <td>18.4</td>\n",
       "      <td>396.90</td>\n",
       "      <td>5.98</td>\n",
       "    </tr>\n",
       "    <tr>\n",
       "      <th>406</th>\n",
       "      <td>20.71620</td>\n",
       "      <td>0.0</td>\n",
       "      <td>18.10</td>\n",
       "      <td>0.0</td>\n",
       "      <td>0.6590</td>\n",
       "      <td>4.138</td>\n",
       "      <td>100.0</td>\n",
       "      <td>1.1781</td>\n",
       "      <td>24.0</td>\n",
       "      <td>666.0</td>\n",
       "      <td>20.2</td>\n",
       "      <td>370.22</td>\n",
       "      <td>23.34</td>\n",
       "    </tr>\n",
       "    <tr>\n",
       "      <th>...</th>\n",
       "      <td>...</td>\n",
       "      <td>...</td>\n",
       "      <td>...</td>\n",
       "      <td>...</td>\n",
       "      <td>...</td>\n",
       "      <td>...</td>\n",
       "      <td>...</td>\n",
       "      <td>...</td>\n",
       "      <td>...</td>\n",
       "      <td>...</td>\n",
       "      <td>...</td>\n",
       "      <td>...</td>\n",
       "      <td>...</td>\n",
       "    </tr>\n",
       "    <tr>\n",
       "      <th>241</th>\n",
       "      <td>0.10612</td>\n",
       "      <td>30.0</td>\n",
       "      <td>4.93</td>\n",
       "      <td>0.0</td>\n",
       "      <td>0.4280</td>\n",
       "      <td>6.095</td>\n",
       "      <td>65.1</td>\n",
       "      <td>6.3361</td>\n",
       "      <td>6.0</td>\n",
       "      <td>300.0</td>\n",
       "      <td>16.6</td>\n",
       "      <td>394.62</td>\n",
       "      <td>12.40</td>\n",
       "    </tr>\n",
       "    <tr>\n",
       "      <th>253</th>\n",
       "      <td>0.36894</td>\n",
       "      <td>22.0</td>\n",
       "      <td>5.86</td>\n",
       "      <td>0.0</td>\n",
       "      <td>0.4310</td>\n",
       "      <td>8.259</td>\n",
       "      <td>8.4</td>\n",
       "      <td>8.9067</td>\n",
       "      <td>7.0</td>\n",
       "      <td>330.0</td>\n",
       "      <td>19.1</td>\n",
       "      <td>396.90</td>\n",
       "      <td>3.54</td>\n",
       "    </tr>\n",
       "    <tr>\n",
       "      <th>390</th>\n",
       "      <td>6.96215</td>\n",
       "      <td>0.0</td>\n",
       "      <td>18.10</td>\n",
       "      <td>0.0</td>\n",
       "      <td>0.7000</td>\n",
       "      <td>5.713</td>\n",
       "      <td>97.0</td>\n",
       "      <td>1.9265</td>\n",
       "      <td>24.0</td>\n",
       "      <td>666.0</td>\n",
       "      <td>20.2</td>\n",
       "      <td>394.43</td>\n",
       "      <td>17.11</td>\n",
       "    </tr>\n",
       "    <tr>\n",
       "      <th>155</th>\n",
       "      <td>3.53501</td>\n",
       "      <td>0.0</td>\n",
       "      <td>19.58</td>\n",
       "      <td>1.0</td>\n",
       "      <td>0.8710</td>\n",
       "      <td>6.152</td>\n",
       "      <td>82.6</td>\n",
       "      <td>1.7455</td>\n",
       "      <td>5.0</td>\n",
       "      <td>403.0</td>\n",
       "      <td>14.7</td>\n",
       "      <td>88.01</td>\n",
       "      <td>15.02</td>\n",
       "    </tr>\n",
       "    <tr>\n",
       "      <th>331</th>\n",
       "      <td>0.05023</td>\n",
       "      <td>35.0</td>\n",
       "      <td>6.06</td>\n",
       "      <td>0.0</td>\n",
       "      <td>0.4379</td>\n",
       "      <td>5.706</td>\n",
       "      <td>28.4</td>\n",
       "      <td>6.6407</td>\n",
       "      <td>1.0</td>\n",
       "      <td>304.0</td>\n",
       "      <td>16.9</td>\n",
       "      <td>394.02</td>\n",
       "      <td>12.43</td>\n",
       "    </tr>\n",
       "  </tbody>\n",
       "</table>\n",
       "<p>354 rows × 13 columns</p>\n",
       "</div>"
      ],
      "text/plain": [
       "         CRIM    ZN  INDUS  CHAS     NOX     RM    AGE     DIS   RAD    TAX  \\\n",
       "251   0.21409  22.0   5.86   0.0  0.4310  6.438    8.9  7.3967   7.0  330.0   \n",
       "465   3.16360   0.0  18.10   0.0  0.6550  5.759   48.2  3.0665  24.0  666.0   \n",
       "137   0.35233   0.0  21.89   0.0  0.6240  6.454   98.4  1.8498   4.0  437.0   \n",
       "311   0.79041   0.0   9.90   0.0  0.5440  6.122   52.8  2.6403   4.0  304.0   \n",
       "406  20.71620   0.0  18.10   0.0  0.6590  4.138  100.0  1.1781  24.0  666.0   \n",
       "..        ...   ...    ...   ...     ...    ...    ...     ...   ...    ...   \n",
       "241   0.10612  30.0   4.93   0.0  0.4280  6.095   65.1  6.3361   6.0  300.0   \n",
       "253   0.36894  22.0   5.86   0.0  0.4310  8.259    8.4  8.9067   7.0  330.0   \n",
       "390   6.96215   0.0  18.10   0.0  0.7000  5.713   97.0  1.9265  24.0  666.0   \n",
       "155   3.53501   0.0  19.58   1.0  0.8710  6.152   82.6  1.7455   5.0  403.0   \n",
       "331   0.05023  35.0   6.06   0.0  0.4379  5.706   28.4  6.6407   1.0  304.0   \n",
       "\n",
       "     PTRATIO       B  LSTAT  \n",
       "251     19.1  377.07   3.59  \n",
       "465     20.2  334.40  14.13  \n",
       "137     21.2  394.08  14.59  \n",
       "311     18.4  396.90   5.98  \n",
       "406     20.2  370.22  23.34  \n",
       "..       ...     ...    ...  \n",
       "241     16.6  394.62  12.40  \n",
       "253     19.1  396.90   3.54  \n",
       "390     20.2  394.43  17.11  \n",
       "155     14.7   88.01  15.02  \n",
       "331     16.9  394.02  12.43  \n",
       "\n",
       "[354 rows x 13 columns]"
      ]
     },
     "execution_count": 24,
     "metadata": {},
     "output_type": "execute_result"
    }
   ],
   "source": [
    "x_train"
   ]
  },
  {
   "cell_type": "code",
   "execution_count": 25,
   "id": "ed2c2693",
   "metadata": {},
   "outputs": [
    {
     "data": {
      "text/html": [
       "<div>\n",
       "<style scoped>\n",
       "    .dataframe tbody tr th:only-of-type {\n",
       "        vertical-align: middle;\n",
       "    }\n",
       "\n",
       "    .dataframe tbody tr th {\n",
       "        vertical-align: top;\n",
       "    }\n",
       "\n",
       "    .dataframe thead th {\n",
       "        text-align: right;\n",
       "    }\n",
       "</style>\n",
       "<table border=\"1\" class=\"dataframe\">\n",
       "  <thead>\n",
       "    <tr style=\"text-align: right;\">\n",
       "      <th></th>\n",
       "      <th>CRIM</th>\n",
       "      <th>ZN</th>\n",
       "      <th>INDUS</th>\n",
       "      <th>CHAS</th>\n",
       "      <th>NOX</th>\n",
       "      <th>RM</th>\n",
       "      <th>AGE</th>\n",
       "      <th>DIS</th>\n",
       "      <th>RAD</th>\n",
       "      <th>TAX</th>\n",
       "      <th>PTRATIO</th>\n",
       "      <th>B</th>\n",
       "      <th>LSTAT</th>\n",
       "    </tr>\n",
       "  </thead>\n",
       "  <tbody>\n",
       "    <tr>\n",
       "      <th>count</th>\n",
       "      <td>354.000000</td>\n",
       "      <td>354.000000</td>\n",
       "      <td>354.000000</td>\n",
       "      <td>354.000000</td>\n",
       "      <td>354.000000</td>\n",
       "      <td>354.000000</td>\n",
       "      <td>354.000000</td>\n",
       "      <td>354.000000</td>\n",
       "      <td>354.000000</td>\n",
       "      <td>354.000000</td>\n",
       "      <td>354.000000</td>\n",
       "      <td>354.000000</td>\n",
       "      <td>354.000000</td>\n",
       "    </tr>\n",
       "    <tr>\n",
       "      <th>mean</th>\n",
       "      <td>3.766185</td>\n",
       "      <td>10.661017</td>\n",
       "      <td>11.271441</td>\n",
       "      <td>0.073446</td>\n",
       "      <td>0.554720</td>\n",
       "      <td>6.261226</td>\n",
       "      <td>69.643220</td>\n",
       "      <td>3.767167</td>\n",
       "      <td>9.497175</td>\n",
       "      <td>411.242938</td>\n",
       "      <td>18.557062</td>\n",
       "      <td>355.736017</td>\n",
       "      <td>12.848503</td>\n",
       "    </tr>\n",
       "    <tr>\n",
       "      <th>std</th>\n",
       "      <td>9.503590</td>\n",
       "      <td>22.891283</td>\n",
       "      <td>6.911165</td>\n",
       "      <td>0.261237</td>\n",
       "      <td>0.114085</td>\n",
       "      <td>0.674153</td>\n",
       "      <td>28.241787</td>\n",
       "      <td>2.107834</td>\n",
       "      <td>8.654609</td>\n",
       "      <td>167.839539</td>\n",
       "      <td>2.113887</td>\n",
       "      <td>92.588745</td>\n",
       "      <td>7.207968</td>\n",
       "    </tr>\n",
       "    <tr>\n",
       "      <th>min</th>\n",
       "      <td>0.009060</td>\n",
       "      <td>0.000000</td>\n",
       "      <td>0.740000</td>\n",
       "      <td>0.000000</td>\n",
       "      <td>0.385000</td>\n",
       "      <td>3.863000</td>\n",
       "      <td>2.900000</td>\n",
       "      <td>1.129600</td>\n",
       "      <td>1.000000</td>\n",
       "      <td>187.000000</td>\n",
       "      <td>12.600000</td>\n",
       "      <td>0.320000</td>\n",
       "      <td>1.730000</td>\n",
       "    </tr>\n",
       "    <tr>\n",
       "      <th>25%</th>\n",
       "      <td>0.085013</td>\n",
       "      <td>0.000000</td>\n",
       "      <td>5.190000</td>\n",
       "      <td>0.000000</td>\n",
       "      <td>0.453000</td>\n",
       "      <td>5.876250</td>\n",
       "      <td>46.400000</td>\n",
       "      <td>2.107650</td>\n",
       "      <td>4.000000</td>\n",
       "      <td>284.000000</td>\n",
       "      <td>17.400000</td>\n",
       "      <td>375.377500</td>\n",
       "      <td>6.942500</td>\n",
       "    </tr>\n",
       "    <tr>\n",
       "      <th>50%</th>\n",
       "      <td>0.240075</td>\n",
       "      <td>0.000000</td>\n",
       "      <td>9.690000</td>\n",
       "      <td>0.000000</td>\n",
       "      <td>0.538000</td>\n",
       "      <td>6.183500</td>\n",
       "      <td>80.350000</td>\n",
       "      <td>3.092200</td>\n",
       "      <td>5.000000</td>\n",
       "      <td>334.500000</td>\n",
       "      <td>19.100000</td>\n",
       "      <td>391.305000</td>\n",
       "      <td>11.655000</td>\n",
       "    </tr>\n",
       "    <tr>\n",
       "      <th>75%</th>\n",
       "      <td>3.639005</td>\n",
       "      <td>0.000000</td>\n",
       "      <td>18.100000</td>\n",
       "      <td>0.000000</td>\n",
       "      <td>0.624000</td>\n",
       "      <td>6.600500</td>\n",
       "      <td>94.675000</td>\n",
       "      <td>5.116700</td>\n",
       "      <td>24.000000</td>\n",
       "      <td>666.000000</td>\n",
       "      <td>20.200000</td>\n",
       "      <td>396.322500</td>\n",
       "      <td>17.270000</td>\n",
       "    </tr>\n",
       "    <tr>\n",
       "      <th>max</th>\n",
       "      <td>88.976200</td>\n",
       "      <td>100.000000</td>\n",
       "      <td>27.740000</td>\n",
       "      <td>1.000000</td>\n",
       "      <td>0.871000</td>\n",
       "      <td>8.725000</td>\n",
       "      <td>100.000000</td>\n",
       "      <td>12.126500</td>\n",
       "      <td>24.000000</td>\n",
       "      <td>711.000000</td>\n",
       "      <td>22.000000</td>\n",
       "      <td>396.900000</td>\n",
       "      <td>37.970000</td>\n",
       "    </tr>\n",
       "  </tbody>\n",
       "</table>\n",
       "</div>"
      ],
      "text/plain": [
       "             CRIM          ZN       INDUS        CHAS         NOX          RM  \\\n",
       "count  354.000000  354.000000  354.000000  354.000000  354.000000  354.000000   \n",
       "mean     3.766185   10.661017   11.271441    0.073446    0.554720    6.261226   \n",
       "std      9.503590   22.891283    6.911165    0.261237    0.114085    0.674153   \n",
       "min      0.009060    0.000000    0.740000    0.000000    0.385000    3.863000   \n",
       "25%      0.085013    0.000000    5.190000    0.000000    0.453000    5.876250   \n",
       "50%      0.240075    0.000000    9.690000    0.000000    0.538000    6.183500   \n",
       "75%      3.639005    0.000000   18.100000    0.000000    0.624000    6.600500   \n",
       "max     88.976200  100.000000   27.740000    1.000000    0.871000    8.725000   \n",
       "\n",
       "              AGE         DIS         RAD         TAX     PTRATIO           B  \\\n",
       "count  354.000000  354.000000  354.000000  354.000000  354.000000  354.000000   \n",
       "mean    69.643220    3.767167    9.497175  411.242938   18.557062  355.736017   \n",
       "std     28.241787    2.107834    8.654609  167.839539    2.113887   92.588745   \n",
       "min      2.900000    1.129600    1.000000  187.000000   12.600000    0.320000   \n",
       "25%     46.400000    2.107650    4.000000  284.000000   17.400000  375.377500   \n",
       "50%     80.350000    3.092200    5.000000  334.500000   19.100000  391.305000   \n",
       "75%     94.675000    5.116700   24.000000  666.000000   20.200000  396.322500   \n",
       "max    100.000000   12.126500   24.000000  711.000000   22.000000  396.900000   \n",
       "\n",
       "            LSTAT  \n",
       "count  354.000000  \n",
       "mean    12.848503  \n",
       "std      7.207968  \n",
       "min      1.730000  \n",
       "25%      6.942500  \n",
       "50%     11.655000  \n",
       "75%     17.270000  \n",
       "max     37.970000  "
      ]
     },
     "execution_count": 25,
     "metadata": {},
     "output_type": "execute_result"
    }
   ],
   "source": [
    "x_train.describe()"
   ]
  },
  {
   "cell_type": "code",
   "execution_count": 26,
   "id": "1cc2e771",
   "metadata": {},
   "outputs": [
    {
     "data": {
      "text/html": [
       "<div>\n",
       "<style scoped>\n",
       "    .dataframe tbody tr th:only-of-type {\n",
       "        vertical-align: middle;\n",
       "    }\n",
       "\n",
       "    .dataframe tbody tr th {\n",
       "        vertical-align: top;\n",
       "    }\n",
       "\n",
       "    .dataframe thead th {\n",
       "        text-align: right;\n",
       "    }\n",
       "</style>\n",
       "<table border=\"1\" class=\"dataframe\">\n",
       "  <thead>\n",
       "    <tr style=\"text-align: right;\">\n",
       "      <th></th>\n",
       "      <th>CRIM</th>\n",
       "      <th>ZN</th>\n",
       "      <th>INDUS</th>\n",
       "      <th>CHAS</th>\n",
       "      <th>NOX</th>\n",
       "      <th>RM</th>\n",
       "      <th>AGE</th>\n",
       "      <th>DIS</th>\n",
       "      <th>RAD</th>\n",
       "      <th>TAX</th>\n",
       "      <th>PTRATIO</th>\n",
       "      <th>B</th>\n",
       "      <th>LSTAT</th>\n",
       "    </tr>\n",
       "  </thead>\n",
       "  <tbody>\n",
       "    <tr>\n",
       "      <th>0</th>\n",
       "      <td>0.002305</td>\n",
       "      <td>0.22</td>\n",
       "      <td>0.189630</td>\n",
       "      <td>0.0</td>\n",
       "      <td>0.094650</td>\n",
       "      <td>0.529617</td>\n",
       "      <td>0.061792</td>\n",
       "      <td>0.569897</td>\n",
       "      <td>0.260870</td>\n",
       "      <td>0.272901</td>\n",
       "      <td>0.691489</td>\n",
       "      <td>0.949997</td>\n",
       "      <td>0.051325</td>\n",
       "    </tr>\n",
       "    <tr>\n",
       "      <th>1</th>\n",
       "      <td>0.035457</td>\n",
       "      <td>0.00</td>\n",
       "      <td>0.642963</td>\n",
       "      <td>0.0</td>\n",
       "      <td>0.555556</td>\n",
       "      <td>0.389963</td>\n",
       "      <td>0.466529</td>\n",
       "      <td>0.176131</td>\n",
       "      <td>1.000000</td>\n",
       "      <td>0.914122</td>\n",
       "      <td>0.808511</td>\n",
       "      <td>0.842403</td>\n",
       "      <td>0.342163</td>\n",
       "    </tr>\n",
       "    <tr>\n",
       "      <th>2</th>\n",
       "      <td>0.003858</td>\n",
       "      <td>0.00</td>\n",
       "      <td>0.783333</td>\n",
       "      <td>0.0</td>\n",
       "      <td>0.491770</td>\n",
       "      <td>0.532908</td>\n",
       "      <td>0.983522</td>\n",
       "      <td>0.065491</td>\n",
       "      <td>0.130435</td>\n",
       "      <td>0.477099</td>\n",
       "      <td>0.914894</td>\n",
       "      <td>0.992889</td>\n",
       "      <td>0.354857</td>\n",
       "    </tr>\n",
       "    <tr>\n",
       "      <th>3</th>\n",
       "      <td>0.008782</td>\n",
       "      <td>0.00</td>\n",
       "      <td>0.339259</td>\n",
       "      <td>0.0</td>\n",
       "      <td>0.327160</td>\n",
       "      <td>0.464624</td>\n",
       "      <td>0.513903</td>\n",
       "      <td>0.137375</td>\n",
       "      <td>0.130435</td>\n",
       "      <td>0.223282</td>\n",
       "      <td>0.617021</td>\n",
       "      <td>1.000000</td>\n",
       "      <td>0.117274</td>\n",
       "    </tr>\n",
       "    <tr>\n",
       "      <th>4</th>\n",
       "      <td>0.232750</td>\n",
       "      <td>0.00</td>\n",
       "      <td>0.642963</td>\n",
       "      <td>0.0</td>\n",
       "      <td>0.563786</td>\n",
       "      <td>0.056561</td>\n",
       "      <td>1.000000</td>\n",
       "      <td>0.004410</td>\n",
       "      <td>1.000000</td>\n",
       "      <td>0.914122</td>\n",
       "      <td>0.808511</td>\n",
       "      <td>0.932725</td>\n",
       "      <td>0.596302</td>\n",
       "    </tr>\n",
       "  </tbody>\n",
       "</table>\n",
       "</div>"
      ],
      "text/plain": [
       "       CRIM    ZN     INDUS  CHAS       NOX        RM       AGE       DIS  \\\n",
       "0  0.002305  0.22  0.189630   0.0  0.094650  0.529617  0.061792  0.569897   \n",
       "1  0.035457  0.00  0.642963   0.0  0.555556  0.389963  0.466529  0.176131   \n",
       "2  0.003858  0.00  0.783333   0.0  0.491770  0.532908  0.983522  0.065491   \n",
       "3  0.008782  0.00  0.339259   0.0  0.327160  0.464624  0.513903  0.137375   \n",
       "4  0.232750  0.00  0.642963   0.0  0.563786  0.056561  1.000000  0.004410   \n",
       "\n",
       "        RAD       TAX   PTRATIO         B     LSTAT  \n",
       "0  0.260870  0.272901  0.691489  0.949997  0.051325  \n",
       "1  1.000000  0.914122  0.808511  0.842403  0.342163  \n",
       "2  0.130435  0.477099  0.914894  0.992889  0.354857  \n",
       "3  0.130435  0.223282  0.617021  1.000000  0.117274  \n",
       "4  1.000000  0.914122  0.808511  0.932725  0.596302  "
      ]
     },
     "execution_count": 26,
     "metadata": {},
     "output_type": "execute_result"
    }
   ],
   "source": [
    "normal_scal = MinMaxScaler()\n",
    "normal_scal.fit(x_train)\n",
    "array = normal_scal.transform(x_train)\n",
    "normal_train_df = pd.DataFrame(array,columns =x_train.columns )\n",
    "normal_train_df.head(5)"
   ]
  },
  {
   "cell_type": "code",
   "execution_count": 27,
   "id": "892ac8d1",
   "metadata": {},
   "outputs": [
    {
     "name": "stdout",
     "output_type": "stream",
     "text": [
      "MSE : 15.3564395480226\n",
      "RMSE: 3.9187293282418216\n",
      "MAE : 2.4886440677966104\n",
      "R-Squared : 0.8143038935442342\n"
     ]
    }
   ],
   "source": [
    "knn_reg = KNeighborsRegressor()\n",
    "knn_reg.fit(normal_train_df,y_train)\n",
    "\n",
    "## Evaluation on training\n",
    "y_pred_train = knn_reg.predict(normal_train_df)\n",
    "\n",
    "mse = mean_squared_error(y_train,y_pred_train)\n",
    "print(\"MSE :\",mse)\n",
    "\n",
    "rmse = np.sqrt(mse)\n",
    "print(\"RMSE:\",rmse)\n",
    "\n",
    "mae = mean_absolute_error(y_train,y_pred_train)\n",
    "print(\"MAE :\",mae)\n",
    "\n",
    "r2_value = r2_score(y_train,y_pred_train)\n",
    "print(\"R-Squared :\",r2_value)"
   ]
  },
  {
   "cell_type": "code",
   "execution_count": 28,
   "id": "294f92f0",
   "metadata": {},
   "outputs": [
    {
     "data": {
      "text/html": [
       "<div>\n",
       "<style scoped>\n",
       "    .dataframe tbody tr th:only-of-type {\n",
       "        vertical-align: middle;\n",
       "    }\n",
       "\n",
       "    .dataframe tbody tr th {\n",
       "        vertical-align: top;\n",
       "    }\n",
       "\n",
       "    .dataframe thead th {\n",
       "        text-align: right;\n",
       "    }\n",
       "</style>\n",
       "<table border=\"1\" class=\"dataframe\">\n",
       "  <thead>\n",
       "    <tr style=\"text-align: right;\">\n",
       "      <th></th>\n",
       "      <th>CRIM</th>\n",
       "      <th>ZN</th>\n",
       "      <th>INDUS</th>\n",
       "      <th>CHAS</th>\n",
       "      <th>NOX</th>\n",
       "      <th>RM</th>\n",
       "      <th>AGE</th>\n",
       "      <th>DIS</th>\n",
       "      <th>RAD</th>\n",
       "      <th>TAX</th>\n",
       "      <th>PTRATIO</th>\n",
       "      <th>B</th>\n",
       "      <th>LSTAT</th>\n",
       "    </tr>\n",
       "  </thead>\n",
       "  <tbody>\n",
       "    <tr>\n",
       "      <th>0</th>\n",
       "      <td>0.000318</td>\n",
       "      <td>0.00</td>\n",
       "      <td>0.164815</td>\n",
       "      <td>0.0</td>\n",
       "      <td>0.267490</td>\n",
       "      <td>0.503291</td>\n",
       "      <td>0.366632</td>\n",
       "      <td>0.484573</td>\n",
       "      <td>0.173913</td>\n",
       "      <td>0.070611</td>\n",
       "      <td>0.808511</td>\n",
       "      <td>0.981088</td>\n",
       "      <td>0.138521</td>\n",
       "    </tr>\n",
       "    <tr>\n",
       "      <th>1</th>\n",
       "      <td>0.150064</td>\n",
       "      <td>0.00</td>\n",
       "      <td>0.642963</td>\n",
       "      <td>0.0</td>\n",
       "      <td>0.633745</td>\n",
       "      <td>0.416290</td>\n",
       "      <td>0.945417</td>\n",
       "      <td>0.059335</td>\n",
       "      <td>1.000000</td>\n",
       "      <td>0.914122</td>\n",
       "      <td>0.808511</td>\n",
       "      <td>1.000000</td>\n",
       "      <td>0.403422</td>\n",
       "    </tr>\n",
       "    <tr>\n",
       "      <th>2</th>\n",
       "      <td>0.466691</td>\n",
       "      <td>0.00</td>\n",
       "      <td>0.642963</td>\n",
       "      <td>0.0</td>\n",
       "      <td>0.633745</td>\n",
       "      <td>0.343069</td>\n",
       "      <td>0.849640</td>\n",
       "      <td>0.043449</td>\n",
       "      <td>1.000000</td>\n",
       "      <td>0.914122</td>\n",
       "      <td>0.808511</td>\n",
       "      <td>0.829946</td>\n",
       "      <td>0.707781</td>\n",
       "    </tr>\n",
       "    <tr>\n",
       "      <th>3</th>\n",
       "      <td>0.005750</td>\n",
       "      <td>0.00</td>\n",
       "      <td>0.202222</td>\n",
       "      <td>1.0</td>\n",
       "      <td>0.251029</td>\n",
       "      <td>0.569313</td>\n",
       "      <td>0.757981</td>\n",
       "      <td>0.274477</td>\n",
       "      <td>0.304348</td>\n",
       "      <td>0.229008</td>\n",
       "      <td>0.510638</td>\n",
       "      <td>0.978693</td>\n",
       "      <td>0.215508</td>\n",
       "    </tr>\n",
       "    <tr>\n",
       "      <th>4</th>\n",
       "      <td>0.000453</td>\n",
       "      <td>0.33</td>\n",
       "      <td>0.053333</td>\n",
       "      <td>0.0</td>\n",
       "      <td>0.179012</td>\n",
       "      <td>0.614151</td>\n",
       "      <td>0.694130</td>\n",
       "      <td>0.186698</td>\n",
       "      <td>0.260870</td>\n",
       "      <td>0.066794</td>\n",
       "      <td>0.617021</td>\n",
       "      <td>1.000000</td>\n",
       "      <td>0.160044</td>\n",
       "    </tr>\n",
       "  </tbody>\n",
       "</table>\n",
       "</div>"
      ],
      "text/plain": [
       "       CRIM    ZN     INDUS  CHAS       NOX        RM       AGE       DIS  \\\n",
       "0  0.000318  0.00  0.164815   0.0  0.267490  0.503291  0.366632  0.484573   \n",
       "1  0.150064  0.00  0.642963   0.0  0.633745  0.416290  0.945417  0.059335   \n",
       "2  0.466691  0.00  0.642963   0.0  0.633745  0.343069  0.849640  0.043449   \n",
       "3  0.005750  0.00  0.202222   1.0  0.251029  0.569313  0.757981  0.274477   \n",
       "4  0.000453  0.33  0.053333   0.0  0.179012  0.614151  0.694130  0.186698   \n",
       "\n",
       "        RAD       TAX   PTRATIO         B     LSTAT  \n",
       "0  0.173913  0.070611  0.808511  0.981088  0.138521  \n",
       "1  1.000000  0.914122  0.808511  1.000000  0.403422  \n",
       "2  1.000000  0.914122  0.808511  0.829946  0.707781  \n",
       "3  0.304348  0.229008  0.510638  0.978693  0.215508  \n",
       "4  0.260870  0.066794  0.617021  1.000000  0.160044  "
      ]
     },
     "execution_count": 28,
     "metadata": {},
     "output_type": "execute_result"
    }
   ],
   "source": [
    "array = normal_scal.transform(x_test)\n",
    "normal_test_df = pd.DataFrame(array,columns =x_test.columns )\n",
    "normal_test_df.head(5)"
   ]
  },
  {
   "cell_type": "code",
   "execution_count": 29,
   "id": "81974114",
   "metadata": {},
   "outputs": [],
   "source": [
    "y_pred_test = knn_reg.predict(normal_test_df)"
   ]
  },
  {
   "cell_type": "code",
   "execution_count": 30,
   "id": "b6f42fea",
   "metadata": {},
   "outputs": [
    {
     "name": "stdout",
     "output_type": "stream",
     "text": [
      "MSE : 25.691784210526322\n",
      "RMSE: 5.068706364598992\n",
      "MAE : 3.4210526315789473\n",
      "R-Squared : 0.7071415957053846\n"
     ]
    }
   ],
   "source": [
    "## Evaluation on testing\n",
    "\n",
    "mse = mean_squared_error(y_test,y_pred_test)\n",
    "print(\"MSE :\",mse)\n",
    "\n",
    "rmse = np.sqrt(mse)\n",
    "print(\"RMSE:\",rmse)\n",
    "\n",
    "mae = mean_absolute_error(y_test,y_pred_test)\n",
    "print(\"MAE :\",mae)\n",
    "\n",
    "r2_value = r2_score(y_test,y_pred_test)\n",
    "print(\"R-Squared :\",r2_value)"
   ]
  },
  {
   "cell_type": "code",
   "execution_count": 31,
   "id": "442e9200",
   "metadata": {},
   "outputs": [
    {
     "ename": "NameError",
     "evalue": "name 'normal_train_xdf' is not defined",
     "output_type": "error",
     "traceback": [
      "\u001b[1;31m---------------------------------------------------------------------------\u001b[0m",
      "\u001b[1;31mNameError\u001b[0m                                 Traceback (most recent call last)",
      "Cell \u001b[1;32mIn [31], line 7\u001b[0m\n\u001b[0;32m      5\u001b[0m \u001b[38;5;28;01mfor\u001b[39;00m k \u001b[38;5;129;01min\u001b[39;00m k_values:\n\u001b[0;32m      6\u001b[0m     knn_reg \u001b[38;5;241m=\u001b[39m KNeighborsRegressor(n_neighbors\u001b[38;5;241m=\u001b[39mk,p\u001b[38;5;241m=\u001b[39m\u001b[38;5;241m1\u001b[39m)\n\u001b[1;32m----> 7\u001b[0m     knn_reg\u001b[38;5;241m.\u001b[39mfit(\u001b[43mnormal_train_xdf\u001b[49m,y_train)\n\u001b[0;32m      8\u001b[0m     r2_train \u001b[38;5;241m=\u001b[39m knn_reg\u001b[38;5;241m.\u001b[39mscore(normal_train_xdf,y_train)\n\u001b[0;32m      9\u001b[0m     r2_train_list\u001b[38;5;241m.\u001b[39mappend(r2_train)\n",
      "\u001b[1;31mNameError\u001b[0m: name 'normal_train_xdf' is not defined"
     ]
    }
   ],
   "source": [
    "r2_train_list = []\n",
    "r2_test_list = []\n",
    "\n",
    "k_values = range(2,21)\n",
    "for k in k_values:\n",
    "    knn_reg = KNeighborsRegressor(n_neighbors=k,p=1)\n",
    "    knn_reg.fit(normal_train_xdf,y_train)\n",
    "    r2_train = knn_reg.score(normal_train_xdf,y_train)\n",
    "    r2_train_list.append(r2_train)\n",
    "    \n",
    "    r2_test = knn_reg.score(normal_test_df,y_test)\n",
    "    r2_test_list.append(r2_test)\n",
    "    \n",
    "print(\"R2_train_list: \", r2_train_list)\n",
    "print(\"*\"*80)\n",
    "print(\"R2_test_list: \", r2_test_list)\n"
   ]
  },
  {
   "cell_type": "code",
   "execution_count": null,
   "id": "570a7147",
   "metadata": {},
   "outputs": [],
   "source": [
    "plt.figure(figsize=(20,10))\n",
    "plt.plot(k_values,r2_train_list)\n",
    "plt.plot(k_values,r2_test_list)\n",
    "plt.xlabel(\"k_values\")\n",
    "plt.ylabel(\"Accuracy\")\n",
    "plt.title(\"Comaparison of k_values and accuracy\")"
   ]
  },
  {
   "cell_type": "raw",
   "id": "7cdbb966",
   "metadata": {},
   "source": [
    "k=7 , p=1"
   ]
  },
  {
   "cell_type": "code",
   "execution_count": null,
   "id": "1f59c8e4",
   "metadata": {},
   "outputs": [],
   "source": [
    "knn_reg = KNeighborsRegressor(n_neighbors=7,p=1)\n",
    "knn_reg.fit(normal_train_df,y_train)"
   ]
  },
  {
   "cell_type": "markdown",
   "id": "bbe6a568",
   "metadata": {},
   "source": [
    "## Evaluation on Training"
   ]
  },
  {
   "cell_type": "code",
   "execution_count": null,
   "id": "dad123a7",
   "metadata": {},
   "outputs": [],
   "source": [
    "y_pred_train = knn_reg.predict(normal_train_df)\n",
    "\n",
    "mse = mean_squared_error(y_train,y_pred_train)\n",
    "print(\"MSE :\",mse)\n",
    "\n",
    "rmse = np.sqrt(mse)\n",
    "print(\"RMSE:\",rmse)\n",
    "\n",
    "mae = mean_absolute_error(y_train,y_pred_train)\n",
    "print(\"MAE :\",mae)\n",
    "\n",
    "r2_value = r2_score(y_train,y_pred_train)\n",
    "print(\"R-Squared :\",r2_value)"
   ]
  },
  {
   "cell_type": "markdown",
   "id": "449205db",
   "metadata": {},
   "source": [
    "## Evaluation on Testing"
   ]
  },
  {
   "cell_type": "code",
   "execution_count": null,
   "id": "52c1905d",
   "metadata": {},
   "outputs": [],
   "source": [
    "array = normal_scal.transform(x_test)\n",
    "\n",
    "normal_test_df = pd.DataFrame(array,columns = x_test.columns)\n",
    "normal_test_df.head(3)"
   ]
  },
  {
   "cell_type": "code",
   "execution_count": null,
   "id": "1f3bfb6d",
   "metadata": {},
   "outputs": [],
   "source": [
    "y_pred = knn_reg.predict(normal_test_df)\n"
   ]
  },
  {
   "cell_type": "code",
   "execution_count": null,
   "id": "8b6bf4f0",
   "metadata": {},
   "outputs": [],
   "source": [
    "mse = mean_squared_error(y_test,y_pred)\n",
    "print(\"MSE :\",mse)\n",
    "\n",
    "rmse = np.sqrt(mse)\n",
    "print(\"RMSE:\",rmse)\n",
    "\n",
    "mae = mean_absolute_error(y_test,y_pred)\n",
    "print(\"MAE :\",mae)\n",
    "\n",
    "r2_value = r2_score(y_test,y_pred)\n",
    "print(\"R-Squared :\",r2_value)"
   ]
  },
  {
   "cell_type": "markdown",
   "id": "486a8d49",
   "metadata": {},
   "source": [
    "## Standartization"
   ]
  },
  {
   "cell_type": "code",
   "execution_count": null,
   "id": "3f28b2b9",
   "metadata": {},
   "outputs": [],
   "source": [
    "std_scal = StandardScaler()\n",
    "std_scal.fit(x_train)"
   ]
  },
  {
   "cell_type": "code",
   "execution_count": null,
   "id": "d5fa5654",
   "metadata": {},
   "outputs": [],
   "source": [
    "array = std_scal.transform(x_train)\n",
    "std_train_df = pd.DataFrame(array, columns= x_train.columns)\n",
    "std_train_df.head(5)"
   ]
  },
  {
   "cell_type": "markdown",
   "id": "2e9c712e",
   "metadata": {},
   "source": [
    "## Evaluation on Training"
   ]
  },
  {
   "cell_type": "code",
   "execution_count": null,
   "id": "1552ec44",
   "metadata": {},
   "outputs": [],
   "source": [
    "y_pred_train = knn_reg.predict(std_train_df)"
   ]
  },
  {
   "cell_type": "code",
   "execution_count": null,
   "id": "8d054678",
   "metadata": {},
   "outputs": [],
   "source": [
    "mse = mean_squared_error(y_train,y_pred_train)\n",
    "print(\"MSE :\",mse)\n",
    "\n",
    "rmse = np.sqrt(mse)\n",
    "print(\"RMSE:\",rmse)\n",
    "\n",
    "mae = mean_absolute_error(y_train,y_pred_train)\n",
    "print(\"MAE :\",mae)\n",
    "\n",
    "r2_value = r2_score(y_train,y_pred_train)\n",
    "print(\"R-Squared :\",r2_value)"
   ]
  },
  {
   "cell_type": "markdown",
   "id": "7e033754",
   "metadata": {},
   "source": [
    "## evaluation on testing"
   ]
  },
  {
   "cell_type": "code",
   "execution_count": null,
   "id": "236283a5",
   "metadata": {},
   "outputs": [],
   "source": [
    "array = std_scal.transform(x_test)\n",
    "std_test_df = pd.DataFrame(array,columns = x_test.columns)\n",
    "std_test_df.head(3)"
   ]
  },
  {
   "cell_type": "code",
   "execution_count": null,
   "id": "04474302",
   "metadata": {},
   "outputs": [],
   "source": [
    "y_pred = knn_reg.predict(std_test_df)\n",
    "\n",
    "\n",
    "mse = mean_squared_error(y_test,y_pred)\n",
    "print(\"MSE :\",mse)\n",
    "\n",
    "rmse = np.sqrt(mse)\n",
    "print(\"RMSE:\",rmse)\n",
    "\n",
    "mae = mean_absolute_error(y_test,y_pred)\n",
    "print(\"MAE :\",mae)\n",
    "\n",
    "r2_value = r2_score(y_test,y_pred)\n",
    "print(\"R-Squared :\",r2_value)"
   ]
  },
  {
   "cell_type": "code",
   "execution_count": null,
   "id": "f3654f66",
   "metadata": {},
   "outputs": [],
   "source": [
    "r2_train_list = []\n",
    "r2_test_list = []\n",
    "k_values = range(2,21)\n",
    "for k in k_values:\n",
    "    knn_reg = KNeighborsRegressor(n_neighbors=k,p=1)\n",
    "    knn_reg.fit(std_train_df,y_train)\n",
    "    r2_train = knn_reg.score(std_train_df,y_train)\n",
    "    r2_train_list.append(r2_train)\n",
    "    \n",
    "    r2_test = knn_reg.score(std_test_df,y_test)\n",
    "    r2_test_list.append(r2_test)\n",
    "    \n",
    "print(\"r2_train_list:\\n\",r2_train_list )\n",
    "print()\n",
    "print(\"r2_test_list:\\n\",r2_test_list)\n",
    "\n",
    "\n",
    "plt.figure(figsize=(20,10))\n",
    "plt.plot(k_values,r2_train_list)\n",
    "plt.plot(k_values,r2_test_list)\n",
    "plt.xlabel(\"K vales\")\n",
    "plt.ylabel(\"Accuracy\")"
   ]
  },
  {
   "cell_type": "raw",
   "id": "230cf011",
   "metadata": {},
   "source": [
    "k= 8 , p=1"
   ]
  },
  {
   "cell_type": "code",
   "execution_count": null,
   "id": "9717ffc7",
   "metadata": {},
   "outputs": [],
   "source": [
    "knn_reg = KNeighborsRegressor(n_neighbors=8,p=1)\n",
    "knn_reg.fit(std_train_df,y_train)"
   ]
  },
  {
   "cell_type": "markdown",
   "id": "eaea1618",
   "metadata": {},
   "source": [
    "## Evaluation on Training"
   ]
  },
  {
   "cell_type": "code",
   "execution_count": null,
   "id": "80a7b0b9",
   "metadata": {},
   "outputs": [],
   "source": [
    "y_pred_train = knn_reg.predict(std_train_df)\n",
    "\n",
    "mse = mean_squared_error(y_train,y_pred_train)\n",
    "print(\"MSE :\",mse)\n",
    "\n",
    "rmse = np.sqrt(mse)\n",
    "print(\"RMSE:\",rmse)\n",
    "\n",
    "mae = mean_absolute_error(y_train,y_pred_train)\n",
    "print(\"MAE :\",mae)\n",
    "\n",
    "r2_value = r2_score(y_train,y_pred_train)\n",
    "print(\"R-Squared :\",r2_value)"
   ]
  },
  {
   "cell_type": "markdown",
   "id": "1f5ccd59",
   "metadata": {},
   "source": [
    "## Evaluation on testing"
   ]
  },
  {
   "cell_type": "code",
   "execution_count": null,
   "id": "6f2967e2",
   "metadata": {},
   "outputs": [],
   "source": [
    "array = std_scal.transform(x_test)\n",
    "std_test_df = pd.DataFrame(array,columns = x_test.columns)"
   ]
  },
  {
   "cell_type": "code",
   "execution_count": null,
   "id": "50191a3d",
   "metadata": {},
   "outputs": [],
   "source": [
    "y_pred = knn_reg.predict(std_test_df)\n",
    "\n",
    "mse = mean_squared_error(y_test,y_pred)\n",
    "print(\"MSE :\",mse)\n",
    "\n",
    "rmse = np.sqrt(mse)\n",
    "print(\"RMSE:\",rmse)\n",
    "\n",
    "mae = mean_absolute_error(y_test,y_pred)\n",
    "print(\"MAE :\",mae)\n",
    "\n",
    "r2_value = r2_score(y_test,y_pred)\n",
    "print(\"R-Squared :\",r2_value)"
   ]
  },
  {
   "cell_type": "markdown",
   "id": "64dda91f",
   "metadata": {},
   "source": [
    "## files for api"
   ]
  },
  {
   "cell_type": "raw",
   "id": "e81dbe76",
   "metadata": {},
   "source": [
    "1. pickle file for scaling and knn"
   ]
  },
  {
   "cell_type": "code",
   "execution_count": null,
   "id": "6d1d35a7",
   "metadata": {},
   "outputs": [],
   "source": [
    "x_test.columns"
   ]
  },
  {
   "cell_type": "code",
   "execution_count": null,
   "id": "dd5eb3bc",
   "metadata": {},
   "outputs": [],
   "source": [
    "knn_reg"
   ]
  },
  {
   "cell_type": "code",
   "execution_count": null,
   "id": "c72e160e",
   "metadata": {},
   "outputs": [],
   "source": [
    "with open(\"KNN_model.pkl\",\"wb\") as f:\n",
    "    pickle.dump(knn_reg,f)"
   ]
  },
  {
   "cell_type": "code",
   "execution_count": null,
   "id": "97b1a54b",
   "metadata": {},
   "outputs": [],
   "source": [
    "std_scal"
   ]
  },
  {
   "cell_type": "code",
   "execution_count": null,
   "id": "c5773477",
   "metadata": {},
   "outputs": [],
   "source": [
    "with open(\"Scaling.pkl\",\"wb\") as f:\n",
    "    pickle.dump(std_scal,f)"
   ]
  },
  {
   "cell_type": "code",
   "execution_count": null,
   "id": "a63bad43",
   "metadata": {},
   "outputs": [],
   "source": []
  }
 ],
 "metadata": {
  "kernelspec": {
   "display_name": "Python 3 (ipykernel)",
   "language": "python",
   "name": "python3"
  },
  "language_info": {
   "codemirror_mode": {
    "name": "ipython",
    "version": 3
   },
   "file_extension": ".py",
   "mimetype": "text/x-python",
   "name": "python",
   "nbconvert_exporter": "python",
   "pygments_lexer": "ipython3",
   "version": "3.10.8"
  },
  "vscode": {
   "interpreter": {
    "hash": "20a9e06a1eee47c4abbed4ec8225ad91d78d9800d202b71b6b0a6e47016c6abd"
   }
  }
 },
 "nbformat": 4,
 "nbformat_minor": 5
}
