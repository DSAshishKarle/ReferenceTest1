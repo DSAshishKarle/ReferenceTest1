{
 "cells": [
  {
   "cell_type": "code",
   "execution_count": 1,
   "id": "31bfc6b5",
   "metadata": {},
   "outputs": [],
   "source": [
    "import numpy as np\n",
    "import pandas as pd\n",
    "import json\n",
    "import pickle"
   ]
  },
  {
   "cell_type": "markdown",
   "id": "780bb973",
   "metadata": {},
   "source": [
    "## Load Model"
   ]
  },
  {
   "cell_type": "code",
   "execution_count": 2,
   "id": "ab9078aa",
   "metadata": {},
   "outputs": [],
   "source": [
    "with open(\"KNN_model.pkl\",\"rb\") as f:\n",
    "    model = pickle.load(f)"
   ]
  },
  {
   "cell_type": "code",
   "execution_count": 3,
   "id": "0f67062b",
   "metadata": {},
   "outputs": [],
   "source": [
    "with open(\"Scaling.pkl\",\"rb\") as f:\n",
    "    std = pickle.load(f)"
   ]
  },
  {
   "cell_type": "markdown",
   "id": "23b09159",
   "metadata": {},
   "source": [
    "## Test data"
   ]
  },
  {
   "cell_type": "code",
   "execution_count": 4,
   "id": "39c83916",
   "metadata": {},
   "outputs": [],
   "source": [
    "CRIM      =   0.05724\n",
    "ZN         =  0.00000\n",
    "INDUS      =  4.24000\n",
    "CHAS       =  0.00000\n",
    "NOX        =  0.46000\n",
    "RM         =  6.33300\n",
    "AGE       = 15.20000\n",
    "DIS        =  7.21460\n",
    "RAD        =  2.00000\n",
    "TAX       = 450.00000\n",
    "PTRATIO    = 17.90000\n",
    "B          =370.21000\n",
    "LSTAT      =  8.34000"
   ]
  },
  {
   "cell_type": "code",
   "execution_count": 9,
   "id": "39a1f971",
   "metadata": {},
   "outputs": [
    {
     "name": "stderr",
     "output_type": "stream",
     "text": [
      "C:\\Users\\Lenovo\\AppData\\Local\\Programs\\Python\\Python310\\lib\\site-packages\\sklearn\\base.py:450: UserWarning: X does not have valid feature names, but StandardScaler was fitted with feature names\n",
      "  warnings.warn(\n",
      "C:\\Users\\Lenovo\\AppData\\Local\\Programs\\Python\\Python310\\lib\\site-packages\\sklearn\\base.py:450: UserWarning: X does not have valid feature names, but KNeighborsRegressor was fitted with feature names\n",
      "  warnings.warn(\n"
     ]
    },
    {
     "data": {
      "text/plain": [
       "22.5625"
      ]
     },
     "execution_count": 9,
     "metadata": {},
     "output_type": "execute_result"
    }
   ],
   "source": [
    "# test_array = np.array([CRIM, ZN, INDUS, CHAS, NOX, RM, AGE, DIS, RAD, TAX,\n",
    "#        PTRATIO, B, LSTAT],ndmin=2)\n",
    "\n",
    "scaled_test_array = std.transform(test_array)\n",
    "scaled_test_array\n",
    "\n",
    "predicted_value = model.predict(scaled_test_array)[0]\n",
    "predicted_value"
   ]
  },
  {
   "cell_type": "code",
   "execution_count": 15,
   "id": "26a0deb5",
   "metadata": {},
   "outputs": [
    {
     "data": {
      "text/plain": [
       "array([[5.7240e-02, 0.0000e+00, 4.2400e+00, 0.0000e+00, 4.6000e-01,\n",
       "        6.3330e+00, 1.5200e+01, 7.2146e+00, 2.0000e+00, 4.5000e+02,\n",
       "        1.7900e+01, 3.7021e+02, 8.3400e+00]])"
      ]
     },
     "execution_count": 15,
     "metadata": {},
     "output_type": "execute_result"
    }
   ],
   "source": [
    "test_array = np.array([CRIM, ZN, INDUS, CHAS, NOX, RM, AGE, DIS, RAD, TAX,\n",
    "       PTRATIO, B, LSTAT])\n",
    "test_array = np.array(test_array,ndmin=2)\n",
    "test_array"
   ]
  },
  {
   "cell_type": "code",
   "execution_count": 20,
   "id": "d322d35a",
   "metadata": {},
   "outputs": [],
   "source": [
    "test_array[0] = CRIM\n",
    "test_array[0][1] = ZN\n",
    "test_array[0][2] = INDUS\n",
    "test_array[0][3] = CHAS\n",
    "test_array[0][4] = NOX\n",
    "test_array[0][5] = RM\n",
    "test_array[0][6] = AGE\n",
    "test_array[0][7] = DIS\n",
    "test_array[0][8] = RAD\n",
    "test_array[0][9] = TAX\n",
    "test_array[0][10] = PTRATIO\n",
    "test_array[0][11] = B\n",
    "test_array[0][12] = LSTAT\n"
   ]
  },
  {
   "cell_type": "code",
   "execution_count": 21,
   "id": "f18fd824",
   "metadata": {},
   "outputs": [
    {
     "data": {
      "text/plain": [
       "array([[5.7240e-02, 0.0000e+00, 4.2400e+00, 0.0000e+00, 4.6000e-01,\n",
       "        6.3330e+00, 1.5200e+01, 7.2146e+00, 2.0000e+00, 4.5000e+02,\n",
       "        1.7900e+01, 3.7021e+02, 8.3400e+00]])"
      ]
     },
     "execution_count": 21,
     "metadata": {},
     "output_type": "execute_result"
    }
   ],
   "source": [
    "test_array"
   ]
  },
  {
   "cell_type": "code",
   "execution_count": 22,
   "id": "8ef920fd",
   "metadata": {},
   "outputs": [
    {
     "name": "stderr",
     "output_type": "stream",
     "text": [
      "C:\\Users\\Lenovo\\AppData\\Local\\Programs\\Python\\Python310\\lib\\site-packages\\sklearn\\base.py:450: UserWarning: X does not have valid feature names, but StandardScaler was fitted with feature names\n",
      "  warnings.warn(\n"
     ]
    },
    {
     "data": {
      "text/plain": [
       "array([[-0.39082024, -0.46638308, -1.01884309, -0.28154625, -0.83142775,\n",
       "         0.10661618, -1.93048266,  1.63784831, -0.86749   ,  0.2312442 ,\n",
       "        -0.31127117,  0.15654678, -0.62637403]])"
      ]
     },
     "execution_count": 22,
     "metadata": {},
     "output_type": "execute_result"
    }
   ],
   "source": [
    "scaled_test_array = std.transform(test_array)\n",
    "scaled_test_array\n"
   ]
  },
  {
   "cell_type": "code",
   "execution_count": 23,
   "id": "e2739683",
   "metadata": {},
   "outputs": [
    {
     "name": "stderr",
     "output_type": "stream",
     "text": [
      "C:\\Users\\Lenovo\\AppData\\Local\\Programs\\Python\\Python310\\lib\\site-packages\\sklearn\\base.py:450: UserWarning: X does not have valid feature names, but KNeighborsRegressor was fitted with feature names\n",
      "  warnings.warn(\n"
     ]
    },
    {
     "data": {
      "text/plain": [
       "22.5625"
      ]
     },
     "execution_count": 23,
     "metadata": {},
     "output_type": "execute_result"
    }
   ],
   "source": [
    "\n",
    "predicted_value = model.predict(scaled_test_array)[0]\n",
    "predicted_value"
   ]
  }
 ],
 "metadata": {
  "kernelspec": {
   "display_name": "Python 3 (ipykernel)",
   "language": "python",
   "name": "python3"
  },
  "language_info": {
   "codemirror_mode": {
    "name": "ipython",
    "version": 3
   },
   "file_extension": ".py",
   "mimetype": "text/x-python",
   "name": "python",
   "nbconvert_exporter": "python",
   "pygments_lexer": "ipython3",
   "version": "3.10.8"
  },
  "vscode": {
   "interpreter": {
    "hash": "20a9e06a1eee47c4abbed4ec8225ad91d78d9800d202b71b6b0a6e47016c6abd"
   }
  }
 },
 "nbformat": 4,
 "nbformat_minor": 5
}
